{
 "cells": [
  {
   "cell_type": "markdown",
   "metadata": {
    "toc": true
   },
   "source": [
    "<h1>Table of Contents<span class=\"tocSkip\"></span></h1>\n",
    "<div class=\"toc\"><ul class=\"toc-item\"><li><span><a href=\"#Take-notice!\" data-toc-modified-id=\"Take-notice!-1\"><span class=\"toc-item-num\">1&nbsp;&nbsp;</span>Take notice!</a></span></li><li><span><a href=\"#Pandas-and-census-data\" data-toc-modified-id=\"Pandas-and-census-data-2\"><span class=\"toc-item-num\">2&nbsp;&nbsp;</span>Pandas and census data</a></span><ul class=\"toc-item\"><li><span><a href=\"#Where-to-get-census-data?\" data-toc-modified-id=\"Where-to-get-census-data?-2.1\"><span class=\"toc-item-num\">2.1&nbsp;&nbsp;</span>Where to get census data?</a></span></li><li><span><a href=\"#The-libraries\" data-toc-modified-id=\"The-libraries-2.2\"><span class=\"toc-item-num\">2.2&nbsp;&nbsp;</span>The libraries</a></span></li><li><span><a href=\"#Importing-data\" data-toc-modified-id=\"Importing-data-2.3\"><span class=\"toc-item-num\">2.3&nbsp;&nbsp;</span>Importing data</a></span></li><li><span><a href=\"#Preliminary-inspection\" data-toc-modified-id=\"Preliminary-inspection-2.4\"><span class=\"toc-item-num\">2.4&nbsp;&nbsp;</span>Preliminary inspection</a></span></li><li><span><a href=\"#Overwriting-default-display-settings\" data-toc-modified-id=\"Overwriting-default-display-settings-2.5\"><span class=\"toc-item-num\">2.5&nbsp;&nbsp;</span>Overwriting default display settings</a></span></li><li><span><a href=\"#Data-types\" data-toc-modified-id=\"Data-types-2.6\"><span class=\"toc-item-num\">2.6&nbsp;&nbsp;</span>Data types</a></span><ul class=\"toc-item\"><li><span><a href=\"#The-FIPS-code\" data-toc-modified-id=\"The-FIPS-code-2.6.1\"><span class=\"toc-item-num\">2.6.1&nbsp;&nbsp;</span>The FIPS code</a></span></li></ul></li><li><span><a href=\"#Delete-county-row\" data-toc-modified-id=\"Delete-county-row-2.7\"><span class=\"toc-item-num\">2.7&nbsp;&nbsp;</span>Delete county row</a></span></li><li><span><a href=\"#The-census-data-dictionary\" data-toc-modified-id=\"The-census-data-dictionary-2.8\"><span class=\"toc-item-num\">2.8&nbsp;&nbsp;</span>The census data dictionary</a></span></li><li><span><a href=\"#Dropping-columns\" data-toc-modified-id=\"Dropping-columns-2.9\"><span class=\"toc-item-num\">2.9&nbsp;&nbsp;</span>Dropping columns</a></span></li><li><span><a href=\"#Renaming-columns\" data-toc-modified-id=\"Renaming-columns-2.10\"><span class=\"toc-item-num\">2.10&nbsp;&nbsp;</span>Renaming columns</a></span></li><li><span><a href=\"#Double-check-your-data-integrity\" data-toc-modified-id=\"Double-check-your-data-integrity-2.11\"><span class=\"toc-item-num\">2.11&nbsp;&nbsp;</span>Double check your data integrity</a></span></li><li><span><a href=\"#Simple-stats-and-plots\" data-toc-modified-id=\"Simple-stats-and-plots-2.12\"><span class=\"toc-item-num\">2.12&nbsp;&nbsp;</span>Simple stats and plots</a></span></li><li><span><a href=\"#Sorting\" data-toc-modified-id=\"Sorting-2.13\"><span class=\"toc-item-num\">2.13&nbsp;&nbsp;</span>Sorting</a></span></li><li><span><a href=\"#Filtering-and-subsetting-data\" data-toc-modified-id=\"Filtering-and-subsetting-data-2.14\"><span class=\"toc-item-num\">2.14&nbsp;&nbsp;</span>Filtering and subsetting data</a></span></li><li><span><a href=\"#Totals-are-great-but-let's-normalize-the-data\" data-toc-modified-id=\"Totals-are-great-but-let's-normalize-the-data-2.15\"><span class=\"toc-item-num\">2.15&nbsp;&nbsp;</span>Totals are great but let's normalize the data</a></span><ul class=\"toc-item\"><li><span><a href=\"#Now-it's-your-turn!\" data-toc-modified-id=\"Now-it's-your-turn!-2.15.1\"><span class=\"toc-item-num\">2.15.1&nbsp;&nbsp;</span>Now it's your turn!</a></span></li></ul></li></ul></li><li><span><a href=\"#Maps!\" data-toc-modified-id=\"Maps!-3\"><span class=\"toc-item-num\">3&nbsp;&nbsp;</span>Maps!</a></span><ul class=\"toc-item\"><li><span><a href=\"#Using-subplots-to-create-multiple-plots\" data-toc-modified-id=\"Using-subplots-to-create-multiple-plots-3.1\"><span class=\"toc-item-num\">3.1&nbsp;&nbsp;</span>Using subplots to create multiple plots</a></span></li><li><span><a href=\"#Additional-mapping-ideas\" data-toc-modified-id=\"Additional-mapping-ideas-3.2\"><span class=\"toc-item-num\">3.2&nbsp;&nbsp;</span>Additional mapping ideas</a></span></li><li><span><a href=\"#Add-a-basemap\" data-toc-modified-id=\"Add-a-basemap-3.3\"><span class=\"toc-item-num\">3.3&nbsp;&nbsp;</span>Add a basemap</a></span></li></ul></li></ul></div>"
   ]
  },
  {
   "cell_type": "markdown",
   "metadata": {
    "slideshow": {
     "slide_type": "slide"
    }
   },
   "source": [
    "<div class=\"alert alert-danger\">\n",
    "\n",
    "<h1>Take notice!</h1>\n",
    "<ul>\n",
    "    <li>This class will be recorded</li>\n",
    "</ul>\n",
    "    \n",
    "</div>"
   ]
  },
  {
   "cell_type": "markdown",
   "metadata": {
    "slideshow": {
     "slide_type": "slide"
    }
   },
   "source": [
    "# Pandas and census data\n",
    "Overview of this week's notebook:\n",
    "\n",
    "- how and where to find and download census data\n",
    "- use `geopandas` library to read a geojson file\n",
    "- use `contextily` to add basemaps ([documentation](https://contextily.readthedocs.io/en/latest/intro_guide.html))\n",
    "- renaming columns\n",
    "- normalizing data columns\n",
    "- simple stats\n",
    "- adding basemaps"
   ]
  },
  {
   "cell_type": "markdown",
   "metadata": {
    "slideshow": {
     "slide_type": "slide"
    }
   },
   "source": [
    "## Where to get census data?\n",
    "\n",
    "\n",
    "Well, you have many options, including, getting it directly from the source, the [census bureau website](https://www.census.gov/data.html) itself. We also have, as part of the academic community, a great resource: [Social Explorer](https://www.socialexplorer.com/). With a campus-wide license to have full access to their website, you can download any census variable, that pretty much existed... ever. And, with its easy-to-use user interface, this is a wonderful one-stop shop for your census needs.\n",
    "\n",
    "But for data scientists, I recommend another source: [censusreporter.org](https://censusreporter.org/)\n",
    "\n",
    "<a href=\"https://censusreporter.org\" target=\"_blank\"><img src=\"images/cr.png\"></a>"
   ]
  },
  {
   "cell_type": "markdown",
   "metadata": {
    "slideshow": {
     "slide_type": "slide"
    }
   },
   "source": [
    "## The libraries"
   ]
  },
  {
   "cell_type": "code",
   "execution_count": 2,
   "metadata": {},
   "outputs": [],
   "source": [
    "# for general data wrangling tasks\n",
    "import pandas as pd\n",
    "\n",
    "# to read and visualize spatial data\n",
    "import geopandas as gpd\n",
    "\n",
    "# to provide basemaps \n",
    "import contextily as ctx\n",
    "\n",
    "# to give more power to your figures (plots)\n",
    "import matplotlib.pyplot as plt"
   ]
  },
  {
   "cell_type": "markdown",
   "metadata": {
    "slideshow": {
     "slide_type": "slide"
    },
    "tags": []
   },
   "source": [
    "## Importing data\n",
    "\n",
    "In order to work with data in python, we need a library that will let us handle \"spatial data exploration.\" We looked at shapefiles with geopandas last week, and for this lab, we will use it to read and wrangle a [geojson](https://en.wikipedia.org/wiki/GeoJSON) file.\n",
    "\n",
    "Before we continue, let's make a brief detour and find out how geojson files are constructed:\n",
    "\n",
    "- [geojson.io](http://geojson.io/#map=2/20.0/0.0)\n",
    "\n",
    "![geojson](images/geojson.png)"
   ]
  },
  {
   "cell_type": "markdown",
   "metadata": {
    "slideshow": {
     "slide_type": "slide"
    }
   },
   "source": [
    "We make the call to load and read the data that was downloaded from census reporter. Take note at the relative path reference to find the file in your file directory."
   ]
  },
  {
   "cell_type": "code",
   "execution_count": 3,
   "metadata": {},
   "outputs": [],
   "source": [
    "# load a data file\n",
    "# note the relative filepath! where is this file located?\n",
    "gdf = gpd.read_file('data/acs2019_5yr_B03002_14000US06037534001__20211002003710.geojson')"
   ]
  },
  {
   "cell_type": "markdown",
   "metadata": {
    "slideshow": {
     "slide_type": "slide"
    }
   },
   "source": [
    "## Preliminary inspection\n",
    "A quick look at the size of the data."
   ]
  },
  {
   "cell_type": "code",
   "execution_count": 4,
   "metadata": {},
   "outputs": [
    {
     "data": {
      "text/plain": [
       "(2347, 45)"
      ]
     },
     "execution_count": 4,
     "metadata": {},
     "output_type": "execute_result"
    }
   ],
   "source": [
    "gdf.shape"
   ]
  },
  {
   "cell_type": "code",
   "execution_count": 5,
   "metadata": {
    "scrolled": true,
    "slideshow": {
     "slide_type": "slide"
    }
   },
   "outputs": [
    {
     "data": {
      "text/html": [
       "<div>\n",
       "<style scoped>\n",
       "    .dataframe tbody tr th:only-of-type {\n",
       "        vertical-align: middle;\n",
       "    }\n",
       "\n",
       "    .dataframe tbody tr th {\n",
       "        vertical-align: top;\n",
       "    }\n",
       "\n",
       "    .dataframe thead th {\n",
       "        text-align: right;\n",
       "    }\n",
       "</style>\n",
       "<table border=\"1\" class=\"dataframe\">\n",
       "  <thead>\n",
       "    <tr style=\"text-align: right;\">\n",
       "      <th></th>\n",
       "      <th>geoid</th>\n",
       "      <th>name</th>\n",
       "      <th>B03002001</th>\n",
       "      <th>B03002001, Error</th>\n",
       "      <th>B03002002</th>\n",
       "      <th>B03002002, Error</th>\n",
       "      <th>B03002003</th>\n",
       "      <th>B03002003, Error</th>\n",
       "      <th>B03002004</th>\n",
       "      <th>B03002004, Error</th>\n",
       "      <th>...</th>\n",
       "      <th>B03002017, Error</th>\n",
       "      <th>B03002018</th>\n",
       "      <th>B03002018, Error</th>\n",
       "      <th>B03002019</th>\n",
       "      <th>B03002019, Error</th>\n",
       "      <th>B03002020</th>\n",
       "      <th>B03002020, Error</th>\n",
       "      <th>B03002021</th>\n",
       "      <th>B03002021, Error</th>\n",
       "      <th>geometry</th>\n",
       "    </tr>\n",
       "  </thead>\n",
       "  <tbody>\n",
       "    <tr>\n",
       "      <th>0</th>\n",
       "      <td>05000US06037</td>\n",
       "      <td>Los Angeles County, CA</td>\n",
       "      <td>10081570.0</td>\n",
       "      <td>0.0</td>\n",
       "      <td>5193136.0</td>\n",
       "      <td>0.0</td>\n",
       "      <td>2641770.0</td>\n",
       "      <td>1343.0</td>\n",
       "      <td>790252.0</td>\n",
       "      <td>2958.0</td>\n",
       "      <td>...</td>\n",
       "      <td>567.0</td>\n",
       "      <td>2083135.0</td>\n",
       "      <td>21995.0</td>\n",
       "      <td>174263.0</td>\n",
       "      <td>4915.0</td>\n",
       "      <td>103325.0</td>\n",
       "      <td>3658.0</td>\n",
       "      <td>70938.0</td>\n",
       "      <td>2605.0</td>\n",
       "      <td>MULTIPOLYGON (((-118.70339 34.16859, -118.7033...</td>\n",
       "    </tr>\n",
       "    <tr>\n",
       "      <th>1</th>\n",
       "      <td>14000US06037101110</td>\n",
       "      <td>Census Tract 1011.10, Los Angeles, CA</td>\n",
       "      <td>4283.0</td>\n",
       "      <td>443.0</td>\n",
       "      <td>3095.0</td>\n",
       "      <td>354.0</td>\n",
       "      <td>2616.0</td>\n",
       "      <td>306.0</td>\n",
       "      <td>19.0</td>\n",
       "      <td>15.0</td>\n",
       "      <td>...</td>\n",
       "      <td>12.0</td>\n",
       "      <td>383.0</td>\n",
       "      <td>311.0</td>\n",
       "      <td>74.0</td>\n",
       "      <td>52.0</td>\n",
       "      <td>34.0</td>\n",
       "      <td>28.0</td>\n",
       "      <td>40.0</td>\n",
       "      <td>46.0</td>\n",
       "      <td>MULTIPOLYGON (((-118.30229 34.25870, -118.3009...</td>\n",
       "    </tr>\n",
       "    <tr>\n",
       "      <th>2</th>\n",
       "      <td>14000US06037101122</td>\n",
       "      <td>Census Tract 1011.22, Los Angeles, CA</td>\n",
       "      <td>3405.0</td>\n",
       "      <td>334.0</td>\n",
       "      <td>3258.0</td>\n",
       "      <td>344.0</td>\n",
       "      <td>2882.0</td>\n",
       "      <td>358.0</td>\n",
       "      <td>74.0</td>\n",
       "      <td>102.0</td>\n",
       "      <td>...</td>\n",
       "      <td>12.0</td>\n",
       "      <td>48.0</td>\n",
       "      <td>55.0</td>\n",
       "      <td>0.0</td>\n",
       "      <td>12.0</td>\n",
       "      <td>0.0</td>\n",
       "      <td>12.0</td>\n",
       "      <td>0.0</td>\n",
       "      <td>12.0</td>\n",
       "      <td>MULTIPOLYGON (((-118.30334 34.27371, -118.3033...</td>\n",
       "    </tr>\n",
       "    <tr>\n",
       "      <th>3</th>\n",
       "      <td>14000US06037101210</td>\n",
       "      <td>Census Tract 1012.10, Los Angeles, CA</td>\n",
       "      <td>6347.0</td>\n",
       "      <td>484.0</td>\n",
       "      <td>3731.0</td>\n",
       "      <td>465.0</td>\n",
       "      <td>2986.0</td>\n",
       "      <td>435.0</td>\n",
       "      <td>198.0</td>\n",
       "      <td>165.0</td>\n",
       "      <td>...</td>\n",
       "      <td>17.0</td>\n",
       "      <td>874.0</td>\n",
       "      <td>477.0</td>\n",
       "      <td>81.0</td>\n",
       "      <td>80.0</td>\n",
       "      <td>48.0</td>\n",
       "      <td>62.0</td>\n",
       "      <td>33.0</td>\n",
       "      <td>51.0</td>\n",
       "      <td>MULTIPOLYGON (((-118.29945 34.25598, -118.2979...</td>\n",
       "    </tr>\n",
       "    <tr>\n",
       "      <th>4</th>\n",
       "      <td>14000US06037101220</td>\n",
       "      <td>Census Tract 1012.20, Los Angeles, CA</td>\n",
       "      <td>3702.0</td>\n",
       "      <td>276.0</td>\n",
       "      <td>2338.0</td>\n",
       "      <td>236.0</td>\n",
       "      <td>1812.0</td>\n",
       "      <td>271.0</td>\n",
       "      <td>87.0</td>\n",
       "      <td>107.0</td>\n",
       "      <td>...</td>\n",
       "      <td>12.0</td>\n",
       "      <td>497.0</td>\n",
       "      <td>231.0</td>\n",
       "      <td>45.0</td>\n",
       "      <td>42.0</td>\n",
       "      <td>11.0</td>\n",
       "      <td>18.0</td>\n",
       "      <td>34.0</td>\n",
       "      <td>39.0</td>\n",
       "      <td>MULTIPOLYGON (((-118.28593 34.25227, -118.2859...</td>\n",
       "    </tr>\n",
       "  </tbody>\n",
       "</table>\n",
       "<p>5 rows × 45 columns</p>\n",
       "</div>"
      ],
      "text/plain": [
       "                geoid                                   name   B03002001  \\\n",
       "0        05000US06037                 Los Angeles County, CA  10081570.0   \n",
       "1  14000US06037101110  Census Tract 1011.10, Los Angeles, CA      4283.0   \n",
       "2  14000US06037101122  Census Tract 1011.22, Los Angeles, CA      3405.0   \n",
       "3  14000US06037101210  Census Tract 1012.10, Los Angeles, CA      6347.0   \n",
       "4  14000US06037101220  Census Tract 1012.20, Los Angeles, CA      3702.0   \n",
       "\n",
       "   B03002001, Error  B03002002  B03002002, Error  B03002003  B03002003, Error  \\\n",
       "0               0.0  5193136.0               0.0  2641770.0            1343.0   \n",
       "1             443.0     3095.0             354.0     2616.0             306.0   \n",
       "2             334.0     3258.0             344.0     2882.0             358.0   \n",
       "3             484.0     3731.0             465.0     2986.0             435.0   \n",
       "4             276.0     2338.0             236.0     1812.0             271.0   \n",
       "\n",
       "   B03002004  B03002004, Error  ...  B03002017, Error  B03002018  \\\n",
       "0   790252.0            2958.0  ...             567.0  2083135.0   \n",
       "1       19.0              15.0  ...              12.0      383.0   \n",
       "2       74.0             102.0  ...              12.0       48.0   \n",
       "3      198.0             165.0  ...              17.0      874.0   \n",
       "4       87.0             107.0  ...              12.0      497.0   \n",
       "\n",
       "   B03002018, Error  B03002019  B03002019, Error  B03002020  B03002020, Error  \\\n",
       "0           21995.0   174263.0            4915.0   103325.0            3658.0   \n",
       "1             311.0       74.0              52.0       34.0              28.0   \n",
       "2              55.0        0.0              12.0        0.0              12.0   \n",
       "3             477.0       81.0              80.0       48.0              62.0   \n",
       "4             231.0       45.0              42.0       11.0              18.0   \n",
       "\n",
       "   B03002021  B03002021, Error  \\\n",
       "0    70938.0            2605.0   \n",
       "1       40.0              46.0   \n",
       "2        0.0              12.0   \n",
       "3       33.0              51.0   \n",
       "4       34.0              39.0   \n",
       "\n",
       "                                            geometry  \n",
       "0  MULTIPOLYGON (((-118.70339 34.16859, -118.7033...  \n",
       "1  MULTIPOLYGON (((-118.30229 34.25870, -118.3009...  \n",
       "2  MULTIPOLYGON (((-118.30334 34.27371, -118.3033...  \n",
       "3  MULTIPOLYGON (((-118.29945 34.25598, -118.2979...  \n",
       "4  MULTIPOLYGON (((-118.28593 34.25227, -118.2859...  \n",
       "\n",
       "[5 rows x 45 columns]"
      ]
     },
     "execution_count": 5,
     "metadata": {},
     "output_type": "execute_result"
    }
   ],
   "source": [
    "gdf.head()"
   ]
  },
  {
   "cell_type": "code",
   "execution_count": 6,
   "metadata": {
    "slideshow": {
     "slide_type": "slide"
    }
   },
   "outputs": [
    {
     "data": {
      "text/plain": [
       "<AxesSubplot:>"
      ]
     },
     "execution_count": 6,
     "metadata": {},
     "output_type": "execute_result"
    },
    {
     "data": {
      "image/png": "[encoded data removed]",
      "text/plain": [
       "<Figure size 720x720 with 1 Axes>"
      ]
     },
     "metadata": {
      "needs_background": "light"
     },
     "output_type": "display_data"
    }
   ],
   "source": [
    "# plot it!\n",
    "gdf.plot(figsize=(10,10))"
   ]
  },
  {
   "cell_type": "markdown",
   "metadata": {
    "slideshow": {
     "slide_type": "slide"
    }
   },
   "source": [
    "## Overwriting default display settings \n",
    "By default, pandas outputs the first 10 and last 10 columns. If we want to see the entire table, we can override the defaults. Use with caution!"
   ]
  },
  {
   "cell_type": "code",
   "execution_count": 8,
   "metadata": {},
   "outputs": [],
   "source": [
    "# I want to see all the data\n",
    "pd.set_option('display.max_columns', None)\n",
    "pd.set_option('display.max_rows', None)"
   ]
  },
  {
   "cell_type": "code",
   "execution_count": 11,
   "metadata": {},
   "outputs": [
    {
     "data": {
      "text/html": [
       "<div>\n",
       "<style scoped>\n",
       "    .dataframe tbody tr th:only-of-type {\n",
       "        vertical-align: middle;\n",
       "    }\n",
       "\n",
       "    .dataframe tbody tr th {\n",
       "        vertical-align: top;\n",
       "    }\n",
       "\n",
       "    .dataframe thead th {\n",
       "        text-align: right;\n",
       "    }\n",
       "</style>\n",
       "<table border=\"1\" class=\"dataframe\">\n",
       "  <thead>\n",
       "    <tr style=\"text-align: right;\">\n",
       "      <th></th>\n",
       "      <th>geoid</th>\n",
       "      <th>name</th>\n",
       "      <th>B03002001</th>\n",
       "      <th>B03002001, Error</th>\n",
       "      <th>B03002002</th>\n",
       "      <th>B03002002, Error</th>\n",
       "      <th>B03002003</th>\n",
       "      <th>B03002003, Error</th>\n",
       "      <th>B03002004</th>\n",
       "      <th>B03002004, Error</th>\n",
       "      <th>B03002005</th>\n",
       "      <th>B03002005, Error</th>\n",
       "      <th>B03002006</th>\n",
       "      <th>B03002006, Error</th>\n",
       "      <th>B03002007</th>\n",
       "      <th>B03002007, Error</th>\n",
       "      <th>B03002008</th>\n",
       "      <th>B03002008, Error</th>\n",
       "      <th>B03002009</th>\n",
       "      <th>B03002009, Error</th>\n",
       "      <th>B03002010</th>\n",
       "      <th>B03002010, Error</th>\n",
       "      <th>B03002011</th>\n",
       "      <th>B03002011, Error</th>\n",
       "      <th>B03002012</th>\n",
       "      <th>B03002012, Error</th>\n",
       "      <th>B03002013</th>\n",
       "      <th>B03002013, Error</th>\n",
       "      <th>B03002014</th>\n",
       "      <th>B03002014, Error</th>\n",
       "      <th>B03002015</th>\n",
       "      <th>B03002015, Error</th>\n",
       "      <th>B03002016</th>\n",
       "      <th>B03002016, Error</th>\n",
       "      <th>B03002017</th>\n",
       "      <th>B03002017, Error</th>\n",
       "      <th>B03002018</th>\n",
       "      <th>B03002018, Error</th>\n",
       "      <th>B03002019</th>\n",
       "      <th>B03002019, Error</th>\n",
       "      <th>B03002020</th>\n",
       "      <th>B03002020, Error</th>\n",
       "      <th>B03002021</th>\n",
       "      <th>B03002021, Error</th>\n",
       "      <th>geometry</th>\n",
       "    </tr>\n",
       "  </thead>\n",
       "  <tbody>\n",
       "    <tr>\n",
       "      <th>1547</th>\n",
       "      <td>14000US06037531202</td>\n",
       "      <td>Census Tract 5312.02, Los Angeles, CA</td>\n",
       "      <td>4431.0</td>\n",
       "      <td>449.0</td>\n",
       "      <td>118.0</td>\n",
       "      <td>80.0</td>\n",
       "      <td>40.0</td>\n",
       "      <td>41.0</td>\n",
       "      <td>32.0</td>\n",
       "      <td>50.0</td>\n",
       "      <td>0.0</td>\n",
       "      <td>12.0</td>\n",
       "      <td>46.0</td>\n",
       "      <td>43.0</td>\n",
       "      <td>0.0</td>\n",
       "      <td>12.0</td>\n",
       "      <td>0.0</td>\n",
       "      <td>12.0</td>\n",
       "      <td>0.0</td>\n",
       "      <td>12.0</td>\n",
       "      <td>0.0</td>\n",
       "      <td>12.0</td>\n",
       "      <td>0.0</td>\n",
       "      <td>12.0</td>\n",
       "      <td>4313.0</td>\n",
       "      <td>464.0</td>\n",
       "      <td>1970.0</td>\n",
       "      <td>577.0</td>\n",
       "      <td>63.0</td>\n",
       "      <td>74.0</td>\n",
       "      <td>0.0</td>\n",
       "      <td>12.0</td>\n",
       "      <td>0.0</td>\n",
       "      <td>12.0</td>\n",
       "      <td>0.0</td>\n",
       "      <td>12.0</td>\n",
       "      <td>2156.0</td>\n",
       "      <td>558.0</td>\n",
       "      <td>124.0</td>\n",
       "      <td>100.0</td>\n",
       "      <td>45.0</td>\n",
       "      <td>31.0</td>\n",
       "      <td>79.0</td>\n",
       "      <td>101.0</td>\n",
       "      <td>MULTIPOLYGON (((-118.19232 34.02728, -118.1920...</td>\n",
       "    </tr>\n",
       "  </tbody>\n",
       "</table>\n",
       "</div>"
      ],
      "text/plain": [
       "                   geoid                                   name  B03002001  \\\n",
       "1547  14000US06037531202  Census Tract 5312.02, Los Angeles, CA     4431.0   \n",
       "\n",
       "      B03002001, Error  B03002002  B03002002, Error  B03002003  \\\n",
       "1547             449.0      118.0              80.0       40.0   \n",
       "\n",
       "      B03002003, Error  B03002004  B03002004, Error  B03002005  \\\n",
       "1547              41.0       32.0              50.0        0.0   \n",
       "\n",
       "      B03002005, Error  B03002006  B03002006, Error  B03002007  \\\n",
       "1547              12.0       46.0              43.0        0.0   \n",
       "\n",
       "      B03002007, Error  B03002008  B03002008, Error  B03002009  \\\n",
       "1547              12.0        0.0              12.0        0.0   \n",
       "\n",
       "      B03002009, Error  B03002010  B03002010, Error  B03002011  \\\n",
       "1547              12.0        0.0              12.0        0.0   \n",
       "\n",
       "      B03002011, Error  B03002012  B03002012, Error  B03002013  \\\n",
       "1547              12.0     4313.0             464.0     1970.0   \n",
       "\n",
       "      B03002013, Error  B03002014  B03002014, Error  B03002015  \\\n",
       "1547             577.0       63.0              74.0        0.0   \n",
       "\n",
       "      B03002015, Error  B03002016  B03002016, Error  B03002017  \\\n",
       "1547              12.0        0.0              12.0        0.0   \n",
       "\n",
       "      B03002017, Error  B03002018  B03002018, Error  B03002019  \\\n",
       "1547              12.0     2156.0             558.0      124.0   \n",
       "\n",
       "      B03002019, Error  B03002020  B03002020, Error  B03002021  \\\n",
       "1547             100.0       45.0              31.0       79.0   \n",
       "\n",
       "      B03002021, Error                                           geometry  \n",
       "1547             101.0  MULTIPOLYGON (((-118.19232 34.02728, -118.1920...  "
      ]
     },
     "execution_count": 11,
     "metadata": {},
     "output_type": "execute_result"
    }
   ],
   "source": [
    "gdf.sample()"
   ]
  },
  {
   "cell_type": "markdown",
   "metadata": {
    "slideshow": {
     "slide_type": "slide"
    }
   },
   "source": [
    "## Data types\n",
    "\n",
    "To get the data types, we will use `.info()`. "
   ]
  },
  {
   "cell_type": "code",
   "execution_count": 12,
   "metadata": {
    "scrolled": true
   },
   "outputs": [
    {
     "name": "stdout",
     "output_type": "stream",
     "text": [
      "<class 'geopandas.geodataframe.GeoDataFrame'>\n",
      "RangeIndex: 2347 entries, 0 to 2346\n",
      "Data columns (total 45 columns):\n",
      " #   Column            Non-Null Count  Dtype   \n",
      "---  ------            --------------  -----   \n",
      " 0   geoid             2347 non-null   object  \n",
      " 1   name              2347 non-null   object  \n",
      " 2   B03002001         2347 non-null   float64 \n",
      " 3   B03002001, Error  2347 non-null   float64 \n",
      " 4   B03002002         2347 non-null   float64 \n",
      " 5   B03002002, Error  2347 non-null   float64 \n",
      " 6   B03002003         2347 non-null   float64 \n",
      " 7   B03002003, Error  2347 non-null   float64 \n",
      " 8   B03002004         2347 non-null   float64 \n",
      " 9   B03002004, Error  2347 non-null   float64 \n",
      " 10  B03002005         2347 non-null   float64 \n",
      " 11  B03002005, Error  2347 non-null   float64 \n",
      " 12  B03002006         2347 non-null   float64 \n",
      " 13  B03002006, Error  2347 non-null   float64 \n",
      " 14  B03002007         2347 non-null   float64 \n",
      " 15  B03002007, Error  2347 non-null   float64 \n",
      " 16  B03002008         2347 non-null   float64 \n",
      " 17  B03002008, Error  2347 non-null   float64 \n",
      " 18  B03002009         2347 non-null   float64 \n",
      " 19  B03002009, Error  2347 non-null   float64 \n",
      " 20  B03002010         2347 non-null   float64 \n",
      " 21  B03002010, Error  2347 non-null   float64 \n",
      " 22  B03002011         2347 non-null   float64 \n",
      " 23  B03002011, Error  2347 non-null   float64 \n",
      " 24  B03002012         2347 non-null   float64 \n",
      " 25  B03002012, Error  2347 non-null   float64 \n",
      " 26  B03002013         2347 non-null   float64 \n",
      " 27  B03002013, Error  2347 non-null   float64 \n",
      " 28  B03002014         2347 non-null   float64 \n",
      " 29  B03002014, Error  2347 non-null   float64 \n",
      " 30  B03002015         2347 non-null   float64 \n",
      " 31  B03002015, Error  2347 non-null   float64 \n",
      " 32  B03002016         2347 non-null   float64 \n",
      " 33  B03002016, Error  2347 non-null   float64 \n",
      " 34  B03002017         2347 non-null   float64 \n",
      " 35  B03002017, Error  2347 non-null   float64 \n",
      " 36  B03002018         2347 non-null   float64 \n",
      " 37  B03002018, Error  2347 non-null   float64 \n",
      " 38  B03002019         2347 non-null   float64 \n",
      " 39  B03002019, Error  2347 non-null   float64 \n",
      " 40  B03002020         2347 non-null   float64 \n",
      " 41  B03002020, Error  2347 non-null   float64 \n",
      " 42  B03002021         2347 non-null   float64 \n",
      " 43  B03002021, Error  2347 non-null   float64 \n",
      " 44  geometry          2347 non-null   geometry\n",
      "dtypes: float64(42), geometry(1), object(2)\n",
      "memory usage: 825.2+ KB\n"
     ]
    }
   ],
   "source": [
    "# look at the data types\n",
    "gdf.info()"
   ]
  },
  {
   "cell_type": "markdown",
   "metadata": {
    "slideshow": {
     "slide_type": "slide"
    }
   },
   "source": [
    "### The FIPS code\n",
    "What is the geoid? It is called a FIPS code but why is it important?\n",
    "\n",
    "- https://www.census.gov/programs-surveys/geography/guidance/geo-identifiers.html\n",
    "\n",
    "![fips](images/fips.png)"
   ]
  },
  {
   "cell_type": "code",
   "execution_count": 7,
   "metadata": {},
   "outputs": [
    {
     "data": {
      "text/plain": [
       "0          05000US06037\n",
       "1    14000US06037101110\n",
       "2    14000US06037101122\n",
       "3    14000US06037101210\n",
       "4    14000US06037101220\n",
       "Name: geoid, dtype: object"
      ]
     },
     "execution_count": 7,
     "metadata": {},
     "output_type": "execute_result"
    }
   ],
   "source": [
    "gdf.geoid.head()"
   ]
  },
  {
   "cell_type": "markdown",
   "metadata": {
    "slideshow": {
     "slide_type": "slide"
    }
   },
   "source": [
    "![fips code](https://learn.arcgis.com/en/related-concepts/GUID-D7AA4FD1-E7FE-49D7-9D11-07915C9ACC68-web.png)\n",
    "\n",
    "[Source: ESRI](https://learn.arcgis.com/en/related-concepts/united-states-census-geography.htm)"
   ]
  },
  {
   "cell_type": "markdown",
   "metadata": {
    "slideshow": {
     "slide_type": "slide"
    }
   },
   "source": [
    "## Delete county row\n",
    "\n",
    "As we have observed, the first row in the data obtained from censusreporter is for the entire county. Keeping this row is problematic, as it represents a data record that is at a different scale. Let's delete it."
   ]
  },
  {
   "cell_type": "markdown",
   "metadata": {},
   "source": [
    "<div class=\"alert alert-danger\">\n",
    "    <b>Important!</b><hr>\n",
    "    Note that any data downloaded from censusreporter will have a \"summary row\" for the entire data.\n",
    "</div>"
   ]
  },
  {
   "cell_type": "code",
   "execution_count": 14,
   "metadata": {
    "slideshow": {
     "slide_type": "slide"
    }
   },
   "outputs": [
    {
     "data": {
      "text/html": [
       "<div>\n",
       "<style scoped>\n",
       "    .dataframe tbody tr th:only-of-type {\n",
       "        vertical-align: middle;\n",
       "    }\n",
       "\n",
       "    .dataframe tbody tr th {\n",
       "        vertical-align: top;\n",
       "    }\n",
       "\n",
       "    .dataframe thead th {\n",
       "        text-align: right;\n",
       "    }\n",
       "</style>\n",
       "<table border=\"1\" class=\"dataframe\">\n",
       "  <thead>\n",
       "    <tr style=\"text-align: right;\">\n",
       "      <th></th>\n",
       "      <th>geoid</th>\n",
       "      <th>name</th>\n",
       "      <th>B03002001</th>\n",
       "      <th>B03002001, Error</th>\n",
       "      <th>B03002002</th>\n",
       "      <th>B03002002, Error</th>\n",
       "      <th>B03002003</th>\n",
       "      <th>B03002003, Error</th>\n",
       "      <th>B03002004</th>\n",
       "      <th>B03002004, Error</th>\n",
       "      <th>B03002005</th>\n",
       "      <th>B03002005, Error</th>\n",
       "      <th>B03002006</th>\n",
       "      <th>B03002006, Error</th>\n",
       "      <th>B03002007</th>\n",
       "      <th>B03002007, Error</th>\n",
       "      <th>B03002008</th>\n",
       "      <th>B03002008, Error</th>\n",
       "      <th>B03002009</th>\n",
       "      <th>B03002009, Error</th>\n",
       "      <th>B03002010</th>\n",
       "      <th>B03002010, Error</th>\n",
       "      <th>B03002011</th>\n",
       "      <th>B03002011, Error</th>\n",
       "      <th>B03002012</th>\n",
       "      <th>B03002012, Error</th>\n",
       "      <th>B03002013</th>\n",
       "      <th>B03002013, Error</th>\n",
       "      <th>B03002014</th>\n",
       "      <th>B03002014, Error</th>\n",
       "      <th>B03002015</th>\n",
       "      <th>B03002015, Error</th>\n",
       "      <th>B03002016</th>\n",
       "      <th>B03002016, Error</th>\n",
       "      <th>B03002017</th>\n",
       "      <th>B03002017, Error</th>\n",
       "      <th>B03002018</th>\n",
       "      <th>B03002018, Error</th>\n",
       "      <th>B03002019</th>\n",
       "      <th>B03002019, Error</th>\n",
       "      <th>B03002020</th>\n",
       "      <th>B03002020, Error</th>\n",
       "      <th>B03002021</th>\n",
       "      <th>B03002021, Error</th>\n",
       "      <th>geometry</th>\n",
       "    </tr>\n",
       "  </thead>\n",
       "  <tbody>\n",
       "    <tr>\n",
       "      <th>0</th>\n",
       "      <td>05000US06037</td>\n",
       "      <td>Los Angeles County, CA</td>\n",
       "      <td>10081570.0</td>\n",
       "      <td>0.0</td>\n",
       "      <td>5193136.0</td>\n",
       "      <td>0.0</td>\n",
       "      <td>2641770.0</td>\n",
       "      <td>1343.0</td>\n",
       "      <td>790252.0</td>\n",
       "      <td>2958.0</td>\n",
       "      <td>20831.0</td>\n",
       "      <td>1021.0</td>\n",
       "      <td>1454769.0</td>\n",
       "      <td>3676.0</td>\n",
       "      <td>24597.0</td>\n",
       "      <td>752.0</td>\n",
       "      <td>32413.0</td>\n",
       "      <td>2235.0</td>\n",
       "      <td>228504.0</td>\n",
       "      <td>5193.0</td>\n",
       "      <td>12628.0</td>\n",
       "      <td>1192.0</td>\n",
       "      <td>215876.0</td>\n",
       "      <td>4867.0</td>\n",
       "      <td>4888434.0</td>\n",
       "      <td>0.0</td>\n",
       "      <td>2526673.0</td>\n",
       "      <td>20454.0</td>\n",
       "      <td>30226.0</td>\n",
       "      <td>1992.0</td>\n",
       "      <td>52562.0</td>\n",
       "      <td>3040.0</td>\n",
       "      <td>18452.0</td>\n",
       "      <td>1143.0</td>\n",
       "      <td>3123.0</td>\n",
       "      <td>567.0</td>\n",
       "      <td>2083135.0</td>\n",
       "      <td>21995.0</td>\n",
       "      <td>174263.0</td>\n",
       "      <td>4915.0</td>\n",
       "      <td>103325.0</td>\n",
       "      <td>3658.0</td>\n",
       "      <td>70938.0</td>\n",
       "      <td>2605.0</td>\n",
       "      <td>MULTIPOLYGON (((-118.70339 34.16859, -118.7033...</td>\n",
       "    </tr>\n",
       "    <tr>\n",
       "      <th>1</th>\n",
       "      <td>14000US06037101110</td>\n",
       "      <td>Census Tract 1011.10, Los Angeles, CA</td>\n",
       "      <td>4283.0</td>\n",
       "      <td>443.0</td>\n",
       "      <td>3095.0</td>\n",
       "      <td>354.0</td>\n",
       "      <td>2616.0</td>\n",
       "      <td>306.0</td>\n",
       "      <td>19.0</td>\n",
       "      <td>15.0</td>\n",
       "      <td>3.0</td>\n",
       "      <td>6.0</td>\n",
       "      <td>331.0</td>\n",
       "      <td>142.0</td>\n",
       "      <td>3.0</td>\n",
       "      <td>6.0</td>\n",
       "      <td>8.0</td>\n",
       "      <td>13.0</td>\n",
       "      <td>115.0</td>\n",
       "      <td>71.0</td>\n",
       "      <td>0.0</td>\n",
       "      <td>12.0</td>\n",
       "      <td>115.0</td>\n",
       "      <td>71.0</td>\n",
       "      <td>1188.0</td>\n",
       "      <td>414.0</td>\n",
       "      <td>731.0</td>\n",
       "      <td>310.0</td>\n",
       "      <td>0.0</td>\n",
       "      <td>12.0</td>\n",
       "      <td>0.0</td>\n",
       "      <td>12.0</td>\n",
       "      <td>0.0</td>\n",
       "      <td>12.0</td>\n",
       "      <td>0.0</td>\n",
       "      <td>12.0</td>\n",
       "      <td>383.0</td>\n",
       "      <td>311.0</td>\n",
       "      <td>74.0</td>\n",
       "      <td>52.0</td>\n",
       "      <td>34.0</td>\n",
       "      <td>28.0</td>\n",
       "      <td>40.0</td>\n",
       "      <td>46.0</td>\n",
       "      <td>MULTIPOLYGON (((-118.30229 34.25870, -118.3009...</td>\n",
       "    </tr>\n",
       "    <tr>\n",
       "      <th>2</th>\n",
       "      <td>14000US06037101122</td>\n",
       "      <td>Census Tract 1011.22, Los Angeles, CA</td>\n",
       "      <td>3405.0</td>\n",
       "      <td>334.0</td>\n",
       "      <td>3258.0</td>\n",
       "      <td>344.0</td>\n",
       "      <td>2882.0</td>\n",
       "      <td>358.0</td>\n",
       "      <td>74.0</td>\n",
       "      <td>102.0</td>\n",
       "      <td>15.0</td>\n",
       "      <td>24.0</td>\n",
       "      <td>220.0</td>\n",
       "      <td>156.0</td>\n",
       "      <td>0.0</td>\n",
       "      <td>12.0</td>\n",
       "      <td>0.0</td>\n",
       "      <td>12.0</td>\n",
       "      <td>67.0</td>\n",
       "      <td>65.0</td>\n",
       "      <td>0.0</td>\n",
       "      <td>12.0</td>\n",
       "      <td>67.0</td>\n",
       "      <td>65.0</td>\n",
       "      <td>147.0</td>\n",
       "      <td>86.0</td>\n",
       "      <td>99.0</td>\n",
       "      <td>66.0</td>\n",
       "      <td>0.0</td>\n",
       "      <td>12.0</td>\n",
       "      <td>0.0</td>\n",
       "      <td>12.0</td>\n",
       "      <td>0.0</td>\n",
       "      <td>12.0</td>\n",
       "      <td>0.0</td>\n",
       "      <td>12.0</td>\n",
       "      <td>48.0</td>\n",
       "      <td>55.0</td>\n",
       "      <td>0.0</td>\n",
       "      <td>12.0</td>\n",
       "      <td>0.0</td>\n",
       "      <td>12.0</td>\n",
       "      <td>0.0</td>\n",
       "      <td>12.0</td>\n",
       "      <td>MULTIPOLYGON (((-118.30334 34.27371, -118.3033...</td>\n",
       "    </tr>\n",
       "    <tr>\n",
       "      <th>3</th>\n",
       "      <td>14000US06037101210</td>\n",
       "      <td>Census Tract 1012.10, Los Angeles, CA</td>\n",
       "      <td>6347.0</td>\n",
       "      <td>484.0</td>\n",
       "      <td>3731.0</td>\n",
       "      <td>465.0</td>\n",
       "      <td>2986.0</td>\n",
       "      <td>435.0</td>\n",
       "      <td>198.0</td>\n",
       "      <td>165.0</td>\n",
       "      <td>0.0</td>\n",
       "      <td>17.0</td>\n",
       "      <td>486.0</td>\n",
       "      <td>101.0</td>\n",
       "      <td>0.0</td>\n",
       "      <td>17.0</td>\n",
       "      <td>47.0</td>\n",
       "      <td>75.0</td>\n",
       "      <td>14.0</td>\n",
       "      <td>25.0</td>\n",
       "      <td>0.0</td>\n",
       "      <td>17.0</td>\n",
       "      <td>14.0</td>\n",
       "      <td>25.0</td>\n",
       "      <td>2616.0</td>\n",
       "      <td>576.0</td>\n",
       "      <td>1661.0</td>\n",
       "      <td>572.0</td>\n",
       "      <td>0.0</td>\n",
       "      <td>17.0</td>\n",
       "      <td>0.0</td>\n",
       "      <td>17.0</td>\n",
       "      <td>0.0</td>\n",
       "      <td>17.0</td>\n",
       "      <td>0.0</td>\n",
       "      <td>17.0</td>\n",
       "      <td>874.0</td>\n",
       "      <td>477.0</td>\n",
       "      <td>81.0</td>\n",
       "      <td>80.0</td>\n",
       "      <td>48.0</td>\n",
       "      <td>62.0</td>\n",
       "      <td>33.0</td>\n",
       "      <td>51.0</td>\n",
       "      <td>MULTIPOLYGON (((-118.29945 34.25598, -118.2979...</td>\n",
       "    </tr>\n",
       "    <tr>\n",
       "      <th>4</th>\n",
       "      <td>14000US06037101220</td>\n",
       "      <td>Census Tract 1012.20, Los Angeles, CA</td>\n",
       "      <td>3702.0</td>\n",
       "      <td>276.0</td>\n",
       "      <td>2338.0</td>\n",
       "      <td>236.0</td>\n",
       "      <td>1812.0</td>\n",
       "      <td>271.0</td>\n",
       "      <td>87.0</td>\n",
       "      <td>107.0</td>\n",
       "      <td>0.0</td>\n",
       "      <td>12.0</td>\n",
       "      <td>341.0</td>\n",
       "      <td>120.0</td>\n",
       "      <td>0.0</td>\n",
       "      <td>12.0</td>\n",
       "      <td>0.0</td>\n",
       "      <td>12.0</td>\n",
       "      <td>98.0</td>\n",
       "      <td>74.0</td>\n",
       "      <td>0.0</td>\n",
       "      <td>12.0</td>\n",
       "      <td>98.0</td>\n",
       "      <td>74.0</td>\n",
       "      <td>1364.0</td>\n",
       "      <td>223.0</td>\n",
       "      <td>822.0</td>\n",
       "      <td>230.0</td>\n",
       "      <td>0.0</td>\n",
       "      <td>12.0</td>\n",
       "      <td>0.0</td>\n",
       "      <td>12.0</td>\n",
       "      <td>0.0</td>\n",
       "      <td>12.0</td>\n",
       "      <td>0.0</td>\n",
       "      <td>12.0</td>\n",
       "      <td>497.0</td>\n",
       "      <td>231.0</td>\n",
       "      <td>45.0</td>\n",
       "      <td>42.0</td>\n",
       "      <td>11.0</td>\n",
       "      <td>18.0</td>\n",
       "      <td>34.0</td>\n",
       "      <td>39.0</td>\n",
       "      <td>MULTIPOLYGON (((-118.28593 34.25227, -118.2859...</td>\n",
       "    </tr>\n",
       "  </tbody>\n",
       "</table>\n",
       "</div>"
      ],
      "text/plain": [
       "                geoid                                   name   B03002001  \\\n",
       "0        05000US06037                 Los Angeles County, CA  10081570.0   \n",
       "1  14000US06037101110  Census Tract 1011.10, Los Angeles, CA      4283.0   \n",
       "2  14000US06037101122  Census Tract 1011.22, Los Angeles, CA      3405.0   \n",
       "3  14000US06037101210  Census Tract 1012.10, Los Angeles, CA      6347.0   \n",
       "4  14000US06037101220  Census Tract 1012.20, Los Angeles, CA      3702.0   \n",
       "\n",
       "   B03002001, Error  B03002002  B03002002, Error  B03002003  B03002003, Error  \\\n",
       "0               0.0  5193136.0               0.0  2641770.0            1343.0   \n",
       "1             443.0     3095.0             354.0     2616.0             306.0   \n",
       "2             334.0     3258.0             344.0     2882.0             358.0   \n",
       "3             484.0     3731.0             465.0     2986.0             435.0   \n",
       "4             276.0     2338.0             236.0     1812.0             271.0   \n",
       "\n",
       "   B03002004  B03002004, Error  B03002005  B03002005, Error  B03002006  \\\n",
       "0   790252.0            2958.0    20831.0            1021.0  1454769.0   \n",
       "1       19.0              15.0        3.0               6.0      331.0   \n",
       "2       74.0             102.0       15.0              24.0      220.0   \n",
       "3      198.0             165.0        0.0              17.0      486.0   \n",
       "4       87.0             107.0        0.0              12.0      341.0   \n",
       "\n",
       "   B03002006, Error  B03002007  B03002007, Error  B03002008  B03002008, Error  \\\n",
       "0            3676.0    24597.0             752.0    32413.0            2235.0   \n",
       "1             142.0        3.0               6.0        8.0              13.0   \n",
       "2             156.0        0.0              12.0        0.0              12.0   \n",
       "3             101.0        0.0              17.0       47.0              75.0   \n",
       "4             120.0        0.0              12.0        0.0              12.0   \n",
       "\n",
       "   B03002009  B03002009, Error  B03002010  B03002010, Error  B03002011  \\\n",
       "0   228504.0            5193.0    12628.0            1192.0   215876.0   \n",
       "1      115.0              71.0        0.0              12.0      115.0   \n",
       "2       67.0              65.0        0.0              12.0       67.0   \n",
       "3       14.0              25.0        0.0              17.0       14.0   \n",
       "4       98.0              74.0        0.0              12.0       98.0   \n",
       "\n",
       "   B03002011, Error  B03002012  B03002012, Error  B03002013  B03002013, Error  \\\n",
       "0            4867.0  4888434.0               0.0  2526673.0           20454.0   \n",
       "1              71.0     1188.0             414.0      731.0             310.0   \n",
       "2              65.0      147.0              86.0       99.0              66.0   \n",
       "3              25.0     2616.0             576.0     1661.0             572.0   \n",
       "4              74.0     1364.0             223.0      822.0             230.0   \n",
       "\n",
       "   B03002014  B03002014, Error  B03002015  B03002015, Error  B03002016  \\\n",
       "0    30226.0            1992.0    52562.0            3040.0    18452.0   \n",
       "1        0.0              12.0        0.0              12.0        0.0   \n",
       "2        0.0              12.0        0.0              12.0        0.0   \n",
       "3        0.0              17.0        0.0              17.0        0.0   \n",
       "4        0.0              12.0        0.0              12.0        0.0   \n",
       "\n",
       "   B03002016, Error  B03002017  B03002017, Error  B03002018  B03002018, Error  \\\n",
       "0            1143.0     3123.0             567.0  2083135.0           21995.0   \n",
       "1              12.0        0.0              12.0      383.0             311.0   \n",
       "2              12.0        0.0              12.0       48.0              55.0   \n",
       "3              17.0        0.0              17.0      874.0             477.0   \n",
       "4              12.0        0.0              12.0      497.0             231.0   \n",
       "\n",
       "   B03002019  B03002019, Error  B03002020  B03002020, Error  B03002021  \\\n",
       "0   174263.0            4915.0   103325.0            3658.0    70938.0   \n",
       "1       74.0              52.0       34.0              28.0       40.0   \n",
       "2        0.0              12.0        0.0              12.0        0.0   \n",
       "3       81.0              80.0       48.0              62.0       33.0   \n",
       "4       45.0              42.0       11.0              18.0       34.0   \n",
       "\n",
       "   B03002021, Error                                           geometry  \n",
       "0            2605.0  MULTIPOLYGON (((-118.70339 34.16859, -118.7033...  \n",
       "1              46.0  MULTIPOLYGON (((-118.30229 34.25870, -118.3009...  \n",
       "2              12.0  MULTIPOLYGON (((-118.30334 34.27371, -118.3033...  \n",
       "3              51.0  MULTIPOLYGON (((-118.29945 34.25598, -118.2979...  \n",
       "4              39.0  MULTIPOLYGON (((-118.28593 34.25227, -118.2859...  "
      ]
     },
     "execution_count": 14,
     "metadata": {},
     "output_type": "execute_result"
    }
   ],
   "source": [
    "# check the data again\n",
    "gdf.head()"
   ]
  },
  {
   "cell_type": "code",
   "execution_count": 15,
   "metadata": {
    "slideshow": {
     "slide_type": "slide"
    }
   },
   "outputs": [],
   "source": [
    "# drop the row with index 0 (i.e. the first row)\n",
    "gdf = gdf.drop([0])"
   ]
  },
  {
   "cell_type": "code",
   "execution_count": 16,
   "metadata": {
    "slideshow": {
     "slide_type": "fragment"
    }
   },
   "outputs": [
    {
     "data": {
      "text/html": [
       "<div>\n",
       "<style scoped>\n",
       "    .dataframe tbody tr th:only-of-type {\n",
       "        vertical-align: middle;\n",
       "    }\n",
       "\n",
       "    .dataframe tbody tr th {\n",
       "        vertical-align: top;\n",
       "    }\n",
       "\n",
       "    .dataframe thead th {\n",
       "        text-align: right;\n",
       "    }\n",
       "</style>\n",
       "<table border=\"1\" class=\"dataframe\">\n",
       "  <thead>\n",
       "    <tr style=\"text-align: right;\">\n",
       "      <th></th>\n",
       "      <th>geoid</th>\n",
       "      <th>name</th>\n",
       "      <th>B03002001</th>\n",
       "      <th>B03002001, Error</th>\n",
       "      <th>B03002002</th>\n",
       "      <th>B03002002, Error</th>\n",
       "      <th>B03002003</th>\n",
       "      <th>B03002003, Error</th>\n",
       "      <th>B03002004</th>\n",
       "      <th>B03002004, Error</th>\n",
       "      <th>B03002005</th>\n",
       "      <th>B03002005, Error</th>\n",
       "      <th>B03002006</th>\n",
       "      <th>B03002006, Error</th>\n",
       "      <th>B03002007</th>\n",
       "      <th>B03002007, Error</th>\n",
       "      <th>B03002008</th>\n",
       "      <th>B03002008, Error</th>\n",
       "      <th>B03002009</th>\n",
       "      <th>B03002009, Error</th>\n",
       "      <th>B03002010</th>\n",
       "      <th>B03002010, Error</th>\n",
       "      <th>B03002011</th>\n",
       "      <th>B03002011, Error</th>\n",
       "      <th>B03002012</th>\n",
       "      <th>B03002012, Error</th>\n",
       "      <th>B03002013</th>\n",
       "      <th>B03002013, Error</th>\n",
       "      <th>B03002014</th>\n",
       "      <th>B03002014, Error</th>\n",
       "      <th>B03002015</th>\n",
       "      <th>B03002015, Error</th>\n",
       "      <th>B03002016</th>\n",
       "      <th>B03002016, Error</th>\n",
       "      <th>B03002017</th>\n",
       "      <th>B03002017, Error</th>\n",
       "      <th>B03002018</th>\n",
       "      <th>B03002018, Error</th>\n",
       "      <th>B03002019</th>\n",
       "      <th>B03002019, Error</th>\n",
       "      <th>B03002020</th>\n",
       "      <th>B03002020, Error</th>\n",
       "      <th>B03002021</th>\n",
       "      <th>B03002021, Error</th>\n",
       "      <th>geometry</th>\n",
       "    </tr>\n",
       "  </thead>\n",
       "  <tbody>\n",
       "    <tr>\n",
       "      <th>1</th>\n",
       "      <td>14000US06037101110</td>\n",
       "      <td>Census Tract 1011.10, Los Angeles, CA</td>\n",
       "      <td>4283.0</td>\n",
       "      <td>443.0</td>\n",
       "      <td>3095.0</td>\n",
       "      <td>354.0</td>\n",
       "      <td>2616.0</td>\n",
       "      <td>306.0</td>\n",
       "      <td>19.0</td>\n",
       "      <td>15.0</td>\n",
       "      <td>3.0</td>\n",
       "      <td>6.0</td>\n",
       "      <td>331.0</td>\n",
       "      <td>142.0</td>\n",
       "      <td>3.0</td>\n",
       "      <td>6.0</td>\n",
       "      <td>8.0</td>\n",
       "      <td>13.0</td>\n",
       "      <td>115.0</td>\n",
       "      <td>71.0</td>\n",
       "      <td>0.0</td>\n",
       "      <td>12.0</td>\n",
       "      <td>115.0</td>\n",
       "      <td>71.0</td>\n",
       "      <td>1188.0</td>\n",
       "      <td>414.0</td>\n",
       "      <td>731.0</td>\n",
       "      <td>310.0</td>\n",
       "      <td>0.0</td>\n",
       "      <td>12.0</td>\n",
       "      <td>0.0</td>\n",
       "      <td>12.0</td>\n",
       "      <td>0.0</td>\n",
       "      <td>12.0</td>\n",
       "      <td>0.0</td>\n",
       "      <td>12.0</td>\n",
       "      <td>383.0</td>\n",
       "      <td>311.0</td>\n",
       "      <td>74.0</td>\n",
       "      <td>52.0</td>\n",
       "      <td>34.0</td>\n",
       "      <td>28.0</td>\n",
       "      <td>40.0</td>\n",
       "      <td>46.0</td>\n",
       "      <td>MULTIPOLYGON (((-118.30229 34.25870, -118.3009...</td>\n",
       "    </tr>\n",
       "    <tr>\n",
       "      <th>2</th>\n",
       "      <td>14000US06037101122</td>\n",
       "      <td>Census Tract 1011.22, Los Angeles, CA</td>\n",
       "      <td>3405.0</td>\n",
       "      <td>334.0</td>\n",
       "      <td>3258.0</td>\n",
       "      <td>344.0</td>\n",
       "      <td>2882.0</td>\n",
       "      <td>358.0</td>\n",
       "      <td>74.0</td>\n",
       "      <td>102.0</td>\n",
       "      <td>15.0</td>\n",
       "      <td>24.0</td>\n",
       "      <td>220.0</td>\n",
       "      <td>156.0</td>\n",
       "      <td>0.0</td>\n",
       "      <td>12.0</td>\n",
       "      <td>0.0</td>\n",
       "      <td>12.0</td>\n",
       "      <td>67.0</td>\n",
       "      <td>65.0</td>\n",
       "      <td>0.0</td>\n",
       "      <td>12.0</td>\n",
       "      <td>67.0</td>\n",
       "      <td>65.0</td>\n",
       "      <td>147.0</td>\n",
       "      <td>86.0</td>\n",
       "      <td>99.0</td>\n",
       "      <td>66.0</td>\n",
       "      <td>0.0</td>\n",
       "      <td>12.0</td>\n",
       "      <td>0.0</td>\n",
       "      <td>12.0</td>\n",
       "      <td>0.0</td>\n",
       "      <td>12.0</td>\n",
       "      <td>0.0</td>\n",
       "      <td>12.0</td>\n",
       "      <td>48.0</td>\n",
       "      <td>55.0</td>\n",
       "      <td>0.0</td>\n",
       "      <td>12.0</td>\n",
       "      <td>0.0</td>\n",
       "      <td>12.0</td>\n",
       "      <td>0.0</td>\n",
       "      <td>12.0</td>\n",
       "      <td>MULTIPOLYGON (((-118.30334 34.27371, -118.3033...</td>\n",
       "    </tr>\n",
       "    <tr>\n",
       "      <th>3</th>\n",
       "      <td>14000US06037101210</td>\n",
       "      <td>Census Tract 1012.10, Los Angeles, CA</td>\n",
       "      <td>6347.0</td>\n",
       "      <td>484.0</td>\n",
       "      <td>3731.0</td>\n",
       "      <td>465.0</td>\n",
       "      <td>2986.0</td>\n",
       "      <td>435.0</td>\n",
       "      <td>198.0</td>\n",
       "      <td>165.0</td>\n",
       "      <td>0.0</td>\n",
       "      <td>17.0</td>\n",
       "      <td>486.0</td>\n",
       "      <td>101.0</td>\n",
       "      <td>0.0</td>\n",
       "      <td>17.0</td>\n",
       "      <td>47.0</td>\n",
       "      <td>75.0</td>\n",
       "      <td>14.0</td>\n",
       "      <td>25.0</td>\n",
       "      <td>0.0</td>\n",
       "      <td>17.0</td>\n",
       "      <td>14.0</td>\n",
       "      <td>25.0</td>\n",
       "      <td>2616.0</td>\n",
       "      <td>576.0</td>\n",
       "      <td>1661.0</td>\n",
       "      <td>572.0</td>\n",
       "      <td>0.0</td>\n",
       "      <td>17.0</td>\n",
       "      <td>0.0</td>\n",
       "      <td>17.0</td>\n",
       "      <td>0.0</td>\n",
       "      <td>17.0</td>\n",
       "      <td>0.0</td>\n",
       "      <td>17.0</td>\n",
       "      <td>874.0</td>\n",
       "      <td>477.0</td>\n",
       "      <td>81.0</td>\n",
       "      <td>80.0</td>\n",
       "      <td>48.0</td>\n",
       "      <td>62.0</td>\n",
       "      <td>33.0</td>\n",
       "      <td>51.0</td>\n",
       "      <td>MULTIPOLYGON (((-118.29945 34.25598, -118.2979...</td>\n",
       "    </tr>\n",
       "    <tr>\n",
       "      <th>4</th>\n",
       "      <td>14000US06037101220</td>\n",
       "      <td>Census Tract 1012.20, Los Angeles, CA</td>\n",
       "      <td>3702.0</td>\n",
       "      <td>276.0</td>\n",
       "      <td>2338.0</td>\n",
       "      <td>236.0</td>\n",
       "      <td>1812.0</td>\n",
       "      <td>271.0</td>\n",
       "      <td>87.0</td>\n",
       "      <td>107.0</td>\n",
       "      <td>0.0</td>\n",
       "      <td>12.0</td>\n",
       "      <td>341.0</td>\n",
       "      <td>120.0</td>\n",
       "      <td>0.0</td>\n",
       "      <td>12.0</td>\n",
       "      <td>0.0</td>\n",
       "      <td>12.0</td>\n",
       "      <td>98.0</td>\n",
       "      <td>74.0</td>\n",
       "      <td>0.0</td>\n",
       "      <td>12.0</td>\n",
       "      <td>98.0</td>\n",
       "      <td>74.0</td>\n",
       "      <td>1364.0</td>\n",
       "      <td>223.0</td>\n",
       "      <td>822.0</td>\n",
       "      <td>230.0</td>\n",
       "      <td>0.0</td>\n",
       "      <td>12.0</td>\n",
       "      <td>0.0</td>\n",
       "      <td>12.0</td>\n",
       "      <td>0.0</td>\n",
       "      <td>12.0</td>\n",
       "      <td>0.0</td>\n",
       "      <td>12.0</td>\n",
       "      <td>497.0</td>\n",
       "      <td>231.0</td>\n",
       "      <td>45.0</td>\n",
       "      <td>42.0</td>\n",
       "      <td>11.0</td>\n",
       "      <td>18.0</td>\n",
       "      <td>34.0</td>\n",
       "      <td>39.0</td>\n",
       "      <td>MULTIPOLYGON (((-118.28593 34.25227, -118.2859...</td>\n",
       "    </tr>\n",
       "    <tr>\n",
       "      <th>5</th>\n",
       "      <td>14000US06037101300</td>\n",
       "      <td>Census Tract 1013, Los Angeles, CA</td>\n",
       "      <td>3884.0</td>\n",
       "      <td>394.0</td>\n",
       "      <td>3587.0</td>\n",
       "      <td>363.0</td>\n",
       "      <td>3126.0</td>\n",
       "      <td>359.0</td>\n",
       "      <td>205.0</td>\n",
       "      <td>232.0</td>\n",
       "      <td>0.0</td>\n",
       "      <td>12.0</td>\n",
       "      <td>194.0</td>\n",
       "      <td>119.0</td>\n",
       "      <td>0.0</td>\n",
       "      <td>12.0</td>\n",
       "      <td>0.0</td>\n",
       "      <td>12.0</td>\n",
       "      <td>62.0</td>\n",
       "      <td>44.0</td>\n",
       "      <td>0.0</td>\n",
       "      <td>12.0</td>\n",
       "      <td>62.0</td>\n",
       "      <td>44.0</td>\n",
       "      <td>297.0</td>\n",
       "      <td>146.0</td>\n",
       "      <td>224.0</td>\n",
       "      <td>142.0</td>\n",
       "      <td>0.0</td>\n",
       "      <td>12.0</td>\n",
       "      <td>0.0</td>\n",
       "      <td>12.0</td>\n",
       "      <td>0.0</td>\n",
       "      <td>12.0</td>\n",
       "      <td>0.0</td>\n",
       "      <td>12.0</td>\n",
       "      <td>45.0</td>\n",
       "      <td>38.0</td>\n",
       "      <td>28.0</td>\n",
       "      <td>32.0</td>\n",
       "      <td>28.0</td>\n",
       "      <td>32.0</td>\n",
       "      <td>0.0</td>\n",
       "      <td>12.0</td>\n",
       "      <td>MULTIPOLYGON (((-118.27822 34.25068, -118.2782...</td>\n",
       "    </tr>\n",
       "  </tbody>\n",
       "</table>\n",
       "</div>"
      ],
      "text/plain": [
       "                geoid                                   name  B03002001  \\\n",
       "1  14000US06037101110  Census Tract 1011.10, Los Angeles, CA     4283.0   \n",
       "2  14000US06037101122  Census Tract 1011.22, Los Angeles, CA     3405.0   \n",
       "3  14000US06037101210  Census Tract 1012.10, Los Angeles, CA     6347.0   \n",
       "4  14000US06037101220  Census Tract 1012.20, Los Angeles, CA     3702.0   \n",
       "5  14000US06037101300     Census Tract 1013, Los Angeles, CA     3884.0   \n",
       "\n",
       "   B03002001, Error  B03002002  B03002002, Error  B03002003  B03002003, Error  \\\n",
       "1             443.0     3095.0             354.0     2616.0             306.0   \n",
       "2             334.0     3258.0             344.0     2882.0             358.0   \n",
       "3             484.0     3731.0             465.0     2986.0             435.0   \n",
       "4             276.0     2338.0             236.0     1812.0             271.0   \n",
       "5             394.0     3587.0             363.0     3126.0             359.0   \n",
       "\n",
       "   B03002004  B03002004, Error  B03002005  B03002005, Error  B03002006  \\\n",
       "1       19.0              15.0        3.0               6.0      331.0   \n",
       "2       74.0             102.0       15.0              24.0      220.0   \n",
       "3      198.0             165.0        0.0              17.0      486.0   \n",
       "4       87.0             107.0        0.0              12.0      341.0   \n",
       "5      205.0             232.0        0.0              12.0      194.0   \n",
       "\n",
       "   B03002006, Error  B03002007  B03002007, Error  B03002008  B03002008, Error  \\\n",
       "1             142.0        3.0               6.0        8.0              13.0   \n",
       "2             156.0        0.0              12.0        0.0              12.0   \n",
       "3             101.0        0.0              17.0       47.0              75.0   \n",
       "4             120.0        0.0              12.0        0.0              12.0   \n",
       "5             119.0        0.0              12.0        0.0              12.0   \n",
       "\n",
       "   B03002009  B03002009, Error  B03002010  B03002010, Error  B03002011  \\\n",
       "1      115.0              71.0        0.0              12.0      115.0   \n",
       "2       67.0              65.0        0.0              12.0       67.0   \n",
       "3       14.0              25.0        0.0              17.0       14.0   \n",
       "4       98.0              74.0        0.0              12.0       98.0   \n",
       "5       62.0              44.0        0.0              12.0       62.0   \n",
       "\n",
       "   B03002011, Error  B03002012  B03002012, Error  B03002013  B03002013, Error  \\\n",
       "1              71.0     1188.0             414.0      731.0             310.0   \n",
       "2              65.0      147.0              86.0       99.0              66.0   \n",
       "3              25.0     2616.0             576.0     1661.0             572.0   \n",
       "4              74.0     1364.0             223.0      822.0             230.0   \n",
       "5              44.0      297.0             146.0      224.0             142.0   \n",
       "\n",
       "   B03002014  B03002014, Error  B03002015  B03002015, Error  B03002016  \\\n",
       "1        0.0              12.0        0.0              12.0        0.0   \n",
       "2        0.0              12.0        0.0              12.0        0.0   \n",
       "3        0.0              17.0        0.0              17.0        0.0   \n",
       "4        0.0              12.0        0.0              12.0        0.0   \n",
       "5        0.0              12.0        0.0              12.0        0.0   \n",
       "\n",
       "   B03002016, Error  B03002017  B03002017, Error  B03002018  B03002018, Error  \\\n",
       "1              12.0        0.0              12.0      383.0             311.0   \n",
       "2              12.0        0.0              12.0       48.0              55.0   \n",
       "3              17.0        0.0              17.0      874.0             477.0   \n",
       "4              12.0        0.0              12.0      497.0             231.0   \n",
       "5              12.0        0.0              12.0       45.0              38.0   \n",
       "\n",
       "   B03002019  B03002019, Error  B03002020  B03002020, Error  B03002021  \\\n",
       "1       74.0              52.0       34.0              28.0       40.0   \n",
       "2        0.0              12.0        0.0              12.0        0.0   \n",
       "3       81.0              80.0       48.0              62.0       33.0   \n",
       "4       45.0              42.0       11.0              18.0       34.0   \n",
       "5       28.0              32.0       28.0              32.0        0.0   \n",
       "\n",
       "   B03002021, Error                                           geometry  \n",
       "1              46.0  MULTIPOLYGON (((-118.30229 34.25870, -118.3009...  \n",
       "2              12.0  MULTIPOLYGON (((-118.30334 34.27371, -118.3033...  \n",
       "3              51.0  MULTIPOLYGON (((-118.29945 34.25598, -118.2979...  \n",
       "4              39.0  MULTIPOLYGON (((-118.28593 34.25227, -118.2859...  \n",
       "5              12.0  MULTIPOLYGON (((-118.27822 34.25068, -118.2782...  "
      ]
     },
     "execution_count": 16,
     "metadata": {},
     "output_type": "execute_result"
    }
   ],
   "source": [
    "# check to see if it has been deleted\n",
    "gdf.head()"
   ]
  },
  {
   "cell_type": "markdown",
   "metadata": {
    "slideshow": {
     "slide_type": "slide"
    }
   },
   "source": [
    "## The census data dictionary\n",
    "There are a lot of columns. What are these columns? Column headers are defined in the `metadata.json` file that comes in the dowloaded zipfile from censusreporter. Click the link below to open the json file in another tab.\n",
    "\n",
    "* [metadata.json](data/metadata.json)"
   ]
  },
  {
   "cell_type": "markdown",
   "metadata": {
    "slideshow": {
     "slide_type": "slide"
    }
   },
   "source": [
    "Let's identify which columns are needed, and which are not for our exploration.\n",
    "\n",
    "![census variables](images/census1.png)"
   ]
  },
  {
   "cell_type": "markdown",
   "metadata": {
    "slideshow": {
     "slide_type": "slide"
    }
   },
   "source": [
    "## Dropping columns \n",
    "There are many columns that we do not need. \n",
    "\n",
    "- output existing columns as a list\n",
    "- create a list of columns to keep\n",
    "- redefine `gdf` with only the columns to keep\n"
   ]
  },
  {
   "cell_type": "code",
   "execution_count": 17,
   "metadata": {
    "scrolled": true,
    "slideshow": {
     "slide_type": "slide"
    }
   },
   "outputs": [
    {
     "data": {
      "text/plain": [
       "['geoid',\n",
       " 'name',\n",
       " 'B03002001',\n",
       " 'B03002001, Error',\n",
       " 'B03002002',\n",
       " 'B03002002, Error',\n",
       " 'B03002003',\n",
       " 'B03002003, Error',\n",
       " 'B03002004',\n",
       " 'B03002004, Error',\n",
       " 'B03002005',\n",
       " 'B03002005, Error',\n",
       " 'B03002006',\n",
       " 'B03002006, Error',\n",
       " 'B03002007',\n",
       " 'B03002007, Error',\n",
       " 'B03002008',\n",
       " 'B03002008, Error',\n",
       " 'B03002009',\n",
       " 'B03002009, Error',\n",
       " 'B03002010',\n",
       " 'B03002010, Error',\n",
       " 'B03002011',\n",
       " 'B03002011, Error',\n",
       " 'B03002012',\n",
       " 'B03002012, Error',\n",
       " 'B03002013',\n",
       " 'B03002013, Error',\n",
       " 'B03002014',\n",
       " 'B03002014, Error',\n",
       " 'B03002015',\n",
       " 'B03002015, Error',\n",
       " 'B03002016',\n",
       " 'B03002016, Error',\n",
       " 'B03002017',\n",
       " 'B03002017, Error',\n",
       " 'B03002018',\n",
       " 'B03002018, Error',\n",
       " 'B03002019',\n",
       " 'B03002019, Error',\n",
       " 'B03002020',\n",
       " 'B03002020, Error',\n",
       " 'B03002021',\n",
       " 'B03002021, Error',\n",
       " 'geometry']"
      ]
     },
     "execution_count": 17,
     "metadata": {},
     "output_type": "execute_result"
    }
   ],
   "source": [
    "list(gdf) # this is the same as df.columns.to_list()"
   ]
  },
  {
   "cell_type": "code",
   "execution_count": 18,
   "metadata": {
    "slideshow": {
     "slide_type": "slide"
    }
   },
   "outputs": [],
   "source": [
    "# columns to keep\n",
    "columns_to_keep = ['geoid',\n",
    " 'name',\n",
    " 'B03002001',\n",
    " 'B03002002',\n",
    " 'B03002003',\n",
    " 'B03002004',\n",
    " 'B03002005',\n",
    " 'B03002006',\n",
    " 'B03002007',\n",
    " 'B03002008',\n",
    " 'B03002009',\n",
    " 'B03002012',\n",
    " 'geometry']"
   ]
  },
  {
   "cell_type": "code",
   "execution_count": 19,
   "metadata": {
    "slideshow": {
     "slide_type": "slide"
    }
   },
   "outputs": [],
   "source": [
    "# redefine gdf with only columns to keep\n",
    "gdf = gdf[columns_to_keep]"
   ]
  },
  {
   "cell_type": "code",
   "execution_count": 20,
   "metadata": {
    "scrolled": true,
    "slideshow": {
     "slide_type": "fragment"
    }
   },
   "outputs": [
    {
     "data": {
      "text/html": [
       "<div>\n",
       "<style scoped>\n",
       "    .dataframe tbody tr th:only-of-type {\n",
       "        vertical-align: middle;\n",
       "    }\n",
       "\n",
       "    .dataframe tbody tr th {\n",
       "        vertical-align: top;\n",
       "    }\n",
       "\n",
       "    .dataframe thead th {\n",
       "        text-align: right;\n",
       "    }\n",
       "</style>\n",
       "<table border=\"1\" class=\"dataframe\">\n",
       "  <thead>\n",
       "    <tr style=\"text-align: right;\">\n",
       "      <th></th>\n",
       "      <th>geoid</th>\n",
       "      <th>name</th>\n",
       "      <th>B03002001</th>\n",
       "      <th>B03002002</th>\n",
       "      <th>B03002003</th>\n",
       "      <th>B03002004</th>\n",
       "      <th>B03002005</th>\n",
       "      <th>B03002006</th>\n",
       "      <th>B03002007</th>\n",
       "      <th>B03002008</th>\n",
       "      <th>B03002009</th>\n",
       "      <th>B03002012</th>\n",
       "      <th>geometry</th>\n",
       "    </tr>\n",
       "  </thead>\n",
       "  <tbody>\n",
       "    <tr>\n",
       "      <th>1</th>\n",
       "      <td>14000US06037101110</td>\n",
       "      <td>Census Tract 1011.10, Los Angeles, CA</td>\n",
       "      <td>4283.0</td>\n",
       "      <td>3095.0</td>\n",
       "      <td>2616.0</td>\n",
       "      <td>19.0</td>\n",
       "      <td>3.0</td>\n",
       "      <td>331.0</td>\n",
       "      <td>3.0</td>\n",
       "      <td>8.0</td>\n",
       "      <td>115.0</td>\n",
       "      <td>1188.0</td>\n",
       "      <td>MULTIPOLYGON (((-118.30229 34.25870, -118.3009...</td>\n",
       "    </tr>\n",
       "    <tr>\n",
       "      <th>2</th>\n",
       "      <td>14000US06037101122</td>\n",
       "      <td>Census Tract 1011.22, Los Angeles, CA</td>\n",
       "      <td>3405.0</td>\n",
       "      <td>3258.0</td>\n",
       "      <td>2882.0</td>\n",
       "      <td>74.0</td>\n",
       "      <td>15.0</td>\n",
       "      <td>220.0</td>\n",
       "      <td>0.0</td>\n",
       "      <td>0.0</td>\n",
       "      <td>67.0</td>\n",
       "      <td>147.0</td>\n",
       "      <td>MULTIPOLYGON (((-118.30334 34.27371, -118.3033...</td>\n",
       "    </tr>\n",
       "    <tr>\n",
       "      <th>3</th>\n",
       "      <td>14000US06037101210</td>\n",
       "      <td>Census Tract 1012.10, Los Angeles, CA</td>\n",
       "      <td>6347.0</td>\n",
       "      <td>3731.0</td>\n",
       "      <td>2986.0</td>\n",
       "      <td>198.0</td>\n",
       "      <td>0.0</td>\n",
       "      <td>486.0</td>\n",
       "      <td>0.0</td>\n",
       "      <td>47.0</td>\n",
       "      <td>14.0</td>\n",
       "      <td>2616.0</td>\n",
       "      <td>MULTIPOLYGON (((-118.29945 34.25598, -118.2979...</td>\n",
       "    </tr>\n",
       "    <tr>\n",
       "      <th>4</th>\n",
       "      <td>14000US06037101220</td>\n",
       "      <td>Census Tract 1012.20, Los Angeles, CA</td>\n",
       "      <td>3702.0</td>\n",
       "      <td>2338.0</td>\n",
       "      <td>1812.0</td>\n",
       "      <td>87.0</td>\n",
       "      <td>0.0</td>\n",
       "      <td>341.0</td>\n",
       "      <td>0.0</td>\n",
       "      <td>0.0</td>\n",
       "      <td>98.0</td>\n",
       "      <td>1364.0</td>\n",
       "      <td>MULTIPOLYGON (((-118.28593 34.25227, -118.2859...</td>\n",
       "    </tr>\n",
       "    <tr>\n",
       "      <th>5</th>\n",
       "      <td>14000US06037101300</td>\n",
       "      <td>Census Tract 1013, Los Angeles, CA</td>\n",
       "      <td>3884.0</td>\n",
       "      <td>3587.0</td>\n",
       "      <td>3126.0</td>\n",
       "      <td>205.0</td>\n",
       "      <td>0.0</td>\n",
       "      <td>194.0</td>\n",
       "      <td>0.0</td>\n",
       "      <td>0.0</td>\n",
       "      <td>62.0</td>\n",
       "      <td>297.0</td>\n",
       "      <td>MULTIPOLYGON (((-118.27822 34.25068, -118.2782...</td>\n",
       "    </tr>\n",
       "  </tbody>\n",
       "</table>\n",
       "</div>"
      ],
      "text/plain": [
       "                geoid                                   name  B03002001  \\\n",
       "1  14000US06037101110  Census Tract 1011.10, Los Angeles, CA     4283.0   \n",
       "2  14000US06037101122  Census Tract 1011.22, Los Angeles, CA     3405.0   \n",
       "3  14000US06037101210  Census Tract 1012.10, Los Angeles, CA     6347.0   \n",
       "4  14000US06037101220  Census Tract 1012.20, Los Angeles, CA     3702.0   \n",
       "5  14000US06037101300     Census Tract 1013, Los Angeles, CA     3884.0   \n",
       "\n",
       "   B03002002  B03002003  B03002004  B03002005  B03002006  B03002007  \\\n",
       "1     3095.0     2616.0       19.0        3.0      331.0        3.0   \n",
       "2     3258.0     2882.0       74.0       15.0      220.0        0.0   \n",
       "3     3731.0     2986.0      198.0        0.0      486.0        0.0   \n",
       "4     2338.0     1812.0       87.0        0.0      341.0        0.0   \n",
       "5     3587.0     3126.0      205.0        0.0      194.0        0.0   \n",
       "\n",
       "   B03002008  B03002009  B03002012  \\\n",
       "1        8.0      115.0     1188.0   \n",
       "2        0.0       67.0      147.0   \n",
       "3       47.0       14.0     2616.0   \n",
       "4        0.0       98.0     1364.0   \n",
       "5        0.0       62.0      297.0   \n",
       "\n",
       "                                            geometry  \n",
       "1  MULTIPOLYGON (((-118.30229 34.25870, -118.3009...  \n",
       "2  MULTIPOLYGON (((-118.30334 34.27371, -118.3033...  \n",
       "3  MULTIPOLYGON (((-118.29945 34.25598, -118.2979...  \n",
       "4  MULTIPOLYGON (((-118.28593 34.25227, -118.2859...  \n",
       "5  MULTIPOLYGON (((-118.27822 34.25068, -118.2782...  "
      ]
     },
     "execution_count": 20,
     "metadata": {},
     "output_type": "execute_result"
    }
   ],
   "source": [
    "# check the slimmed down gdf\n",
    "gdf.head()"
   ]
  },
  {
   "cell_type": "markdown",
   "metadata": {
    "slideshow": {
     "slide_type": "slide"
    }
   },
   "source": [
    "## Renaming columns\n",
    "\n",
    "Let's rename the columns. First, create a list of column names as they are now."
   ]
  },
  {
   "cell_type": "code",
   "execution_count": 21,
   "metadata": {},
   "outputs": [
    {
     "data": {
      "text/plain": [
       "['geoid',\n",
       " 'name',\n",
       " 'B03002001',\n",
       " 'B03002002',\n",
       " 'B03002003',\n",
       " 'B03002004',\n",
       " 'B03002005',\n",
       " 'B03002006',\n",
       " 'B03002007',\n",
       " 'B03002008',\n",
       " 'B03002009',\n",
       " 'B03002012',\n",
       " 'geometry']"
      ]
     },
     "execution_count": 21,
     "metadata": {},
     "output_type": "execute_result"
    }
   ],
   "source": [
    "list(gdf) # this is the same as df.columns.to_list()"
   ]
  },
  {
   "cell_type": "markdown",
   "metadata": {
    "slideshow": {
     "slide_type": "slide"
    }
   },
   "source": [
    "Then, simply copy and paste the output list above, and define the columns with it. Replace the values with your desired column names"
   ]
  },
  {
   "cell_type": "code",
   "execution_count": 22,
   "metadata": {},
   "outputs": [],
   "source": [
    "gdf.columns = ['geoid',\n",
    " 'name',\n",
    " 'Total',\n",
    " 'Non Hispanic',\n",
    " 'Non Hispanic White',\n",
    " 'Non Hispanic Black',\n",
    " 'Non Hispanic American Indian and Alaska Native',\n",
    " 'Non Hispanic Asian',\n",
    " 'Non Hispanic Native Hawaiian and Other Pacific Islander',\n",
    " 'Non Hispanic Some other race',\n",
    " 'Non Hispanic Two or more races',\n",
    " 'Hispanic',\n",
    " 'geometry']"
   ]
  },
  {
   "cell_type": "code",
   "execution_count": 23,
   "metadata": {
    "slideshow": {
     "slide_type": "slide"
    }
   },
   "outputs": [
    {
     "data": {
      "text/html": [
       "<div>\n",
       "<style scoped>\n",
       "    .dataframe tbody tr th:only-of-type {\n",
       "        vertical-align: middle;\n",
       "    }\n",
       "\n",
       "    .dataframe tbody tr th {\n",
       "        vertical-align: top;\n",
       "    }\n",
       "\n",
       "    .dataframe thead th {\n",
       "        text-align: right;\n",
       "    }\n",
       "</style>\n",
       "<table border=\"1\" class=\"dataframe\">\n",
       "  <thead>\n",
       "    <tr style=\"text-align: right;\">\n",
       "      <th></th>\n",
       "      <th>geoid</th>\n",
       "      <th>name</th>\n",
       "      <th>Total</th>\n",
       "      <th>Non Hispanic</th>\n",
       "      <th>Non Hispanic White</th>\n",
       "      <th>Non Hispanic Black</th>\n",
       "      <th>Non Hispanic American Indian and Alaska Native</th>\n",
       "      <th>Non Hispanic Asian</th>\n",
       "      <th>Non Hispanic Native Hawaiian and Other Pacific Islander</th>\n",
       "      <th>Non Hispanic Some other race</th>\n",
       "      <th>Non Hispanic Two or more races</th>\n",
       "      <th>Hispanic</th>\n",
       "      <th>geometry</th>\n",
       "    </tr>\n",
       "  </thead>\n",
       "  <tbody>\n",
       "    <tr>\n",
       "      <th>1</th>\n",
       "      <td>14000US06037101110</td>\n",
       "      <td>Census Tract 1011.10, Los Angeles, CA</td>\n",
       "      <td>4283.0</td>\n",
       "      <td>3095.0</td>\n",
       "      <td>2616.0</td>\n",
       "      <td>19.0</td>\n",
       "      <td>3.0</td>\n",
       "      <td>331.0</td>\n",
       "      <td>3.0</td>\n",
       "      <td>8.0</td>\n",
       "      <td>115.0</td>\n",
       "      <td>1188.0</td>\n",
       "      <td>MULTIPOLYGON (((-118.30229 34.25870, -118.3009...</td>\n",
       "    </tr>\n",
       "    <tr>\n",
       "      <th>2</th>\n",
       "      <td>14000US06037101122</td>\n",
       "      <td>Census Tract 1011.22, Los Angeles, CA</td>\n",
       "      <td>3405.0</td>\n",
       "      <td>3258.0</td>\n",
       "      <td>2882.0</td>\n",
       "      <td>74.0</td>\n",
       "      <td>15.0</td>\n",
       "      <td>220.0</td>\n",
       "      <td>0.0</td>\n",
       "      <td>0.0</td>\n",
       "      <td>67.0</td>\n",
       "      <td>147.0</td>\n",
       "      <td>MULTIPOLYGON (((-118.30334 34.27371, -118.3033...</td>\n",
       "    </tr>\n",
       "    <tr>\n",
       "      <th>3</th>\n",
       "      <td>14000US06037101210</td>\n",
       "      <td>Census Tract 1012.10, Los Angeles, CA</td>\n",
       "      <td>6347.0</td>\n",
       "      <td>3731.0</td>\n",
       "      <td>2986.0</td>\n",
       "      <td>198.0</td>\n",
       "      <td>0.0</td>\n",
       "      <td>486.0</td>\n",
       "      <td>0.0</td>\n",
       "      <td>47.0</td>\n",
       "      <td>14.0</td>\n",
       "      <td>2616.0</td>\n",
       "      <td>MULTIPOLYGON (((-118.29945 34.25598, -118.2979...</td>\n",
       "    </tr>\n",
       "    <tr>\n",
       "      <th>4</th>\n",
       "      <td>14000US06037101220</td>\n",
       "      <td>Census Tract 1012.20, Los Angeles, CA</td>\n",
       "      <td>3702.0</td>\n",
       "      <td>2338.0</td>\n",
       "      <td>1812.0</td>\n",
       "      <td>87.0</td>\n",
       "      <td>0.0</td>\n",
       "      <td>341.0</td>\n",
       "      <td>0.0</td>\n",
       "      <td>0.0</td>\n",
       "      <td>98.0</td>\n",
       "      <td>1364.0</td>\n",
       "      <td>MULTIPOLYGON (((-118.28593 34.25227, -118.2859...</td>\n",
       "    </tr>\n",
       "    <tr>\n",
       "      <th>5</th>\n",
       "      <td>14000US06037101300</td>\n",
       "      <td>Census Tract 1013, Los Angeles, CA</td>\n",
       "      <td>3884.0</td>\n",
       "      <td>3587.0</td>\n",
       "      <td>3126.0</td>\n",
       "      <td>205.0</td>\n",
       "      <td>0.0</td>\n",
       "      <td>194.0</td>\n",
       "      <td>0.0</td>\n",
       "      <td>0.0</td>\n",
       "      <td>62.0</td>\n",
       "      <td>297.0</td>\n",
       "      <td>MULTIPOLYGON (((-118.27822 34.25068, -118.2782...</td>\n",
       "    </tr>\n",
       "  </tbody>\n",
       "</table>\n",
       "</div>"
      ],
      "text/plain": [
       "                geoid                                   name   Total  \\\n",
       "1  14000US06037101110  Census Tract 1011.10, Los Angeles, CA  4283.0   \n",
       "2  14000US06037101122  Census Tract 1011.22, Los Angeles, CA  3405.0   \n",
       "3  14000US06037101210  Census Tract 1012.10, Los Angeles, CA  6347.0   \n",
       "4  14000US06037101220  Census Tract 1012.20, Los Angeles, CA  3702.0   \n",
       "5  14000US06037101300     Census Tract 1013, Los Angeles, CA  3884.0   \n",
       "\n",
       "   Non Hispanic  Non Hispanic White  Non Hispanic Black  \\\n",
       "1        3095.0              2616.0                19.0   \n",
       "2        3258.0              2882.0                74.0   \n",
       "3        3731.0              2986.0               198.0   \n",
       "4        2338.0              1812.0                87.0   \n",
       "5        3587.0              3126.0               205.0   \n",
       "\n",
       "   Non Hispanic American Indian and Alaska Native  Non Hispanic Asian  \\\n",
       "1                                             3.0               331.0   \n",
       "2                                            15.0               220.0   \n",
       "3                                             0.0               486.0   \n",
       "4                                             0.0               341.0   \n",
       "5                                             0.0               194.0   \n",
       "\n",
       "   Non Hispanic Native Hawaiian and Other Pacific Islander  \\\n",
       "1                                                3.0         \n",
       "2                                                0.0         \n",
       "3                                                0.0         \n",
       "4                                                0.0         \n",
       "5                                                0.0         \n",
       "\n",
       "   Non Hispanic Some other race  Non Hispanic Two or more races  Hispanic  \\\n",
       "1                           8.0                           115.0    1188.0   \n",
       "2                           0.0                            67.0     147.0   \n",
       "3                          47.0                            14.0    2616.0   \n",
       "4                           0.0                            98.0    1364.0   \n",
       "5                           0.0                            62.0     297.0   \n",
       "\n",
       "                                            geometry  \n",
       "1  MULTIPOLYGON (((-118.30229 34.25870, -118.3009...  \n",
       "2  MULTIPOLYGON (((-118.30334 34.27371, -118.3033...  \n",
       "3  MULTIPOLYGON (((-118.29945 34.25598, -118.2979...  \n",
       "4  MULTIPOLYGON (((-118.28593 34.25227, -118.2859...  \n",
       "5  MULTIPOLYGON (((-118.27822 34.25068, -118.2782...  "
      ]
     },
     "execution_count": 23,
     "metadata": {},
     "output_type": "execute_result"
    }
   ],
   "source": [
    "gdf.head()"
   ]
  },
  {
   "cell_type": "markdown",
   "metadata": {
    "slideshow": {
     "slide_type": "slide"
    }
   },
   "source": [
    "## Double check your data integrity\n",
    "Does the math add up? Let's check. The `Total` should equal the rest of the columns."
   ]
  },
  {
   "cell_type": "code",
   "execution_count": 24,
   "metadata": {
    "slideshow": {
     "slide_type": "fragment"
    }
   },
   "outputs": [
    {
     "data": {
      "text/html": [
       "<div>\n",
       "<style scoped>\n",
       "    .dataframe tbody tr th:only-of-type {\n",
       "        vertical-align: middle;\n",
       "    }\n",
       "\n",
       "    .dataframe tbody tr th {\n",
       "        vertical-align: top;\n",
       "    }\n",
       "\n",
       "    .dataframe thead th {\n",
       "        text-align: right;\n",
       "    }\n",
       "</style>\n",
       "<table border=\"1\" class=\"dataframe\">\n",
       "  <thead>\n",
       "    <tr style=\"text-align: right;\">\n",
       "      <th></th>\n",
       "      <th>geoid</th>\n",
       "      <th>name</th>\n",
       "      <th>Total</th>\n",
       "      <th>Non Hispanic</th>\n",
       "      <th>Non Hispanic White</th>\n",
       "      <th>Non Hispanic Black</th>\n",
       "      <th>Non Hispanic American Indian and Alaska Native</th>\n",
       "      <th>Non Hispanic Asian</th>\n",
       "      <th>Non Hispanic Native Hawaiian and Other Pacific Islander</th>\n",
       "      <th>Non Hispanic Some other race</th>\n",
       "      <th>Non Hispanic Two or more races</th>\n",
       "      <th>Hispanic</th>\n",
       "      <th>geometry</th>\n",
       "    </tr>\n",
       "  </thead>\n",
       "  <tbody>\n",
       "    <tr>\n",
       "      <th>596</th>\n",
       "      <td>14000US06037211922</td>\n",
       "      <td>Census Tract 2119.22, Los Angeles, CA</td>\n",
       "      <td>3269.0</td>\n",
       "      <td>1927.0</td>\n",
       "      <td>188.0</td>\n",
       "      <td>231.0</td>\n",
       "      <td>41.0</td>\n",
       "      <td>1450.0</td>\n",
       "      <td>9.0</td>\n",
       "      <td>0.0</td>\n",
       "      <td>8.0</td>\n",
       "      <td>1342.0</td>\n",
       "      <td>MULTIPOLYGON (((-118.29665 34.06903, -118.2954...</td>\n",
       "    </tr>\n",
       "  </tbody>\n",
       "</table>\n",
       "</div>"
      ],
      "text/plain": [
       "                  geoid                                   name   Total  \\\n",
       "596  14000US06037211922  Census Tract 2119.22, Los Angeles, CA  3269.0   \n",
       "\n",
       "     Non Hispanic  Non Hispanic White  Non Hispanic Black  \\\n",
       "596        1927.0               188.0               231.0   \n",
       "\n",
       "     Non Hispanic American Indian and Alaska Native  Non Hispanic Asian  \\\n",
       "596                                            41.0              1450.0   \n",
       "\n",
       "     Non Hispanic Native Hawaiian and Other Pacific Islander  \\\n",
       "596                                                9.0         \n",
       "\n",
       "     Non Hispanic Some other race  Non Hispanic Two or more races  Hispanic  \\\n",
       "596                           0.0                             8.0    1342.0   \n",
       "\n",
       "                                              geometry  \n",
       "596  MULTIPOLYGON (((-118.29665 34.06903, -118.2954...  "
      ]
     },
     "execution_count": 24,
     "metadata": {},
     "output_type": "execute_result"
    }
   ],
   "source": [
    "# get a random record\n",
    "random_tract = gdf.sample()\n",
    "random_tract"
   ]
  },
  {
   "cell_type": "markdown",
   "metadata": {
    "slideshow": {
     "slide_type": "slide"
    }
   },
   "source": [
    "To get values from individual cells in a dataframe, use the `iloc` command.\n",
    "\n",
    "- `iloc` ([documentation](https://pandas.pydata.org/pandas-docs/stable/reference/api/pandas.DataFrame.iloc.html))\n",
    "\n",
    "While there are various methods to get cell values in python, the iloc command allows you to get to a cell based on the position of the record row and the column name."
   ]
  },
  {
   "cell_type": "code",
   "execution_count": 25,
   "metadata": {
    "slideshow": {
     "slide_type": "slide"
    }
   },
   "outputs": [
    {
     "data": {
      "text/plain": [
       "3269.0"
      ]
     },
     "execution_count": 25,
     "metadata": {},
     "output_type": "execute_result"
    }
   ],
   "source": [
    "# example usage of iloc to get the total population of our random record\n",
    "# \"for the 0th record, get the value in the Total column\"\n",
    "random_tract.iloc[0]['Total']"
   ]
  },
  {
   "cell_type": "code",
   "execution_count": 26,
   "metadata": {
    "slideshow": {
     "slide_type": "fragment"
    }
   },
   "outputs": [
    {
     "name": "stdout",
     "output_type": "stream",
     "text": [
      "Total population: 3269.0\n"
     ]
    }
   ],
   "source": [
    "# print this out in plain english\n",
    "print('Total population: ' + str(random_tract.iloc[0]['Total']))"
   ]
  },
  {
   "cell_type": "code",
   "execution_count": 27,
   "metadata": {},
   "outputs": [
    {
     "name": "stdout",
     "output_type": "stream",
     "text": [
      "Non Hispanic + Hispanic: 3269.0\n"
     ]
    }
   ],
   "source": [
    "# non hispanic plus hispanic should equal to the total\n",
    "print('Non Hispanic + Hispanic: ' + str(random_tract.iloc[0]['Non Hispanic'] + random_tract.iloc[0]['Hispanic']))"
   ]
  },
  {
   "cell_type": "code",
   "execution_count": 28,
   "metadata": {},
   "outputs": [
    {
     "name": "stdout",
     "output_type": "stream",
     "text": [
      "3269.0\n"
     ]
    }
   ],
   "source": [
    "# hispanic plus all the non hispanice categories\n",
    "print(random_tract.iloc[0]['Non Hispanic White'] + \n",
    "      random_tract.iloc[0]['Non Hispanic Black'] + \n",
    "      random_tract.iloc[0]['Non Hispanic American Indian and Alaska Native'] + \n",
    "      random_tract.iloc[0]['Non Hispanic Asian'] + \n",
    "      random_tract.iloc[0]['Non Hispanic Native Hawaiian and Other Pacific Islander'] + \n",
    "      random_tract.iloc[0]['Non Hispanic Some other race'] + \n",
    "      random_tract.iloc[0]['Non Hispanic Two or more races'] + \n",
    "      random_tract.iloc[0]['Hispanic'])"
   ]
  },
  {
   "cell_type": "markdown",
   "metadata": {
    "slideshow": {
     "slide_type": "slide"
    }
   },
   "source": [
    "## Simple stats and plots"
   ]
  },
  {
   "cell_type": "code",
   "execution_count": 29,
   "metadata": {
    "scrolled": true
   },
   "outputs": [
    {
     "data": {
      "text/plain": [
       "1    4283.0\n",
       "2    3405.0\n",
       "3    6347.0\n",
       "4    3702.0\n",
       "5    3884.0\n",
       "Name: Total, dtype: float64"
      ]
     },
     "execution_count": 29,
     "metadata": {},
     "output_type": "execute_result"
    }
   ],
   "source": [
    "# access a single column like df['col_name']\n",
    "gdf['Total'].head()"
   ]
  },
  {
   "cell_type": "code",
   "execution_count": 30,
   "metadata": {
    "slideshow": {
     "slide_type": "slide"
    }
   },
   "outputs": [
    {
     "data": {
      "text/plain": [
       "4297.34441602728"
      ]
     },
     "execution_count": 30,
     "metadata": {},
     "output_type": "execute_result"
    }
   ],
   "source": [
    "# What is the mean?\n",
    "gdf['Total'].mean()"
   ]
  },
  {
   "cell_type": "code",
   "execution_count": 31,
   "metadata": {},
   "outputs": [
    {
     "data": {
      "text/plain": [
       "4211.5"
      ]
     },
     "execution_count": 31,
     "metadata": {},
     "output_type": "execute_result"
    }
   ],
   "source": [
    "# What is the median?\n",
    "gdf['Total'].median()"
   ]
  },
  {
   "cell_type": "code",
   "execution_count": 32,
   "metadata": {},
   "outputs": [
    {
     "data": {
      "text/plain": [
       "count     2346.000000\n",
       "mean      4297.344416\n",
       "std       1587.065962\n",
       "min          0.000000\n",
       "25%       3203.750000\n",
       "50%       4211.500000\n",
       "75%       5314.000000\n",
       "max      12463.000000\n",
       "Name: Total, dtype: float64"
      ]
     },
     "execution_count": 32,
     "metadata": {},
     "output_type": "execute_result"
    }
   ],
   "source": [
    "# get some stats\n",
    "gdf['Total'].describe()"
   ]
  },
  {
   "cell_type": "code",
   "execution_count": 33,
   "metadata": {
    "scrolled": true,
    "slideshow": {
     "slide_type": "slide"
    }
   },
   "outputs": [
    {
     "data": {
      "text/plain": [
       "<AxesSubplot:ylabel='Frequency'>"
      ]
     },
     "execution_count": 33,
     "metadata": {},
     "output_type": "execute_result"
    },
    {
     "data": {
      "image/png": "[encoded data removed]",
      "text/plain": [
       "<Figure size 432x288 with 1 Axes>"
      ]
     },
     "metadata": {
      "needs_background": "light"
     },
     "output_type": "display_data"
    }
   ],
   "source": [
    "# plot it as a historgram with 50 bins\n",
    "gdf['Total'].plot.hist(bins=50)"
   ]
  },
  {
   "cell_type": "markdown",
   "metadata": {
    "slideshow": {
     "slide_type": "slide"
    }
   },
   "source": [
    "<div class=\"alert alert-info\">\n",
    "    Now it's your turn. Find some stats for different fields in the data and output them below.\n",
    "    </div>"
   ]
  },
  {
   "cell_type": "code",
   "execution_count": null,
   "metadata": {},
   "outputs": [],
   "source": []
  },
  {
   "cell_type": "markdown",
   "metadata": {
    "slideshow": {
     "slide_type": "slide"
    }
   },
   "source": [
    "## Sorting\n",
    "What are the top 10 most populated census tracts? What are the census tracts with the highest black popluation? To answer these questions, the simplest method is to sort the data by their respective columns."
   ]
  },
  {
   "cell_type": "code",
   "execution_count": 34,
   "metadata": {},
   "outputs": [],
   "source": [
    "gdf_sorted = gdf.sort_values(by='Total',ascending = False)"
   ]
  },
  {
   "cell_type": "code",
   "execution_count": 35,
   "metadata": {
    "scrolled": true,
    "slideshow": {
     "slide_type": "slide"
    }
   },
   "outputs": [
    {
     "data": {
      "text/html": [
       "<div>\n",
       "<style scoped>\n",
       "    .dataframe tbody tr th:only-of-type {\n",
       "        vertical-align: middle;\n",
       "    }\n",
       "\n",
       "    .dataframe tbody tr th {\n",
       "        vertical-align: top;\n",
       "    }\n",
       "\n",
       "    .dataframe thead th {\n",
       "        text-align: right;\n",
       "    }\n",
       "</style>\n",
       "<table border=\"1\" class=\"dataframe\">\n",
       "  <thead>\n",
       "    <tr style=\"text-align: right;\">\n",
       "      <th></th>\n",
       "      <th>geoid</th>\n",
       "      <th>Total</th>\n",
       "    </tr>\n",
       "  </thead>\n",
       "  <tbody>\n",
       "    <tr>\n",
       "      <th>2198</th>\n",
       "      <td>14000US06037901004</td>\n",
       "      <td>12463.0</td>\n",
       "    </tr>\n",
       "    <tr>\n",
       "      <th>923</th>\n",
       "      <td>14000US06037275602</td>\n",
       "      <td>12100.0</td>\n",
       "    </tr>\n",
       "    <tr>\n",
       "      <th>848</th>\n",
       "      <td>14000US06037265301</td>\n",
       "      <td>11977.0</td>\n",
       "    </tr>\n",
       "    <tr>\n",
       "      <th>2236</th>\n",
       "      <td>14000US06037910705</td>\n",
       "      <td>11613.0</td>\n",
       "    </tr>\n",
       "    <tr>\n",
       "      <th>2206</th>\n",
       "      <td>14000US06037901205</td>\n",
       "      <td>10783.0</td>\n",
       "    </tr>\n",
       "    <tr>\n",
       "      <th>2275</th>\n",
       "      <td>14000US06037920037</td>\n",
       "      <td>10318.0</td>\n",
       "    </tr>\n",
       "    <tr>\n",
       "      <th>2147</th>\n",
       "      <td>14000US06037702901</td>\n",
       "      <td>9852.0</td>\n",
       "    </tr>\n",
       "    <tr>\n",
       "      <th>994</th>\n",
       "      <td>14000US06037300600</td>\n",
       "      <td>9609.0</td>\n",
       "    </tr>\n",
       "    <tr>\n",
       "      <th>532</th>\n",
       "      <td>14000US06037206020</td>\n",
       "      <td>8947.0</td>\n",
       "    </tr>\n",
       "    <tr>\n",
       "      <th>2192</th>\n",
       "      <td>14000US06037900803</td>\n",
       "      <td>8751.0</td>\n",
       "    </tr>\n",
       "  </tbody>\n",
       "</table>\n",
       "</div>"
      ],
      "text/plain": [
       "                   geoid    Total\n",
       "2198  14000US06037901004  12463.0\n",
       "923   14000US06037275602  12100.0\n",
       "848   14000US06037265301  11977.0\n",
       "2236  14000US06037910705  11613.0\n",
       "2206  14000US06037901205  10783.0\n",
       "2275  14000US06037920037  10318.0\n",
       "2147  14000US06037702901   9852.0\n",
       "994   14000US06037300600   9609.0\n",
       "532   14000US06037206020   8947.0\n",
       "2192  14000US06037900803   8751.0"
      ]
     },
     "execution_count": 35,
     "metadata": {},
     "output_type": "execute_result"
    }
   ],
   "source": [
    "# display the data, but just a few columns to keep it clean\n",
    "gdf_sorted[['geoid','Total']].head(10)"
   ]
  },
  {
   "cell_type": "code",
   "execution_count": 36,
   "metadata": {
    "slideshow": {
     "slide_type": "slide"
    }
   },
   "outputs": [
    {
     "data": {
      "text/plain": [
       "<AxesSubplot:>"
      ]
     },
     "execution_count": 36,
     "metadata": {},
     "output_type": "execute_result"
    },
    {
     "data": {
      "image/png": "[encoded data removed]",
      "text/plain": [
       "<Figure size 432x288 with 1 Axes>"
      ]
     },
     "metadata": {
      "needs_background": "light"
     },
     "output_type": "display_data"
    }
   ],
   "source": [
    "# plot it\n",
    "gdf_sorted.head(10).plot()"
   ]
  },
  {
   "cell_type": "code",
   "execution_count": 37,
   "metadata": {
    "slideshow": {
     "slide_type": "slide"
    }
   },
   "outputs": [
    {
     "data": {
      "text/plain": [
       "<AxesSubplot:>"
      ]
     },
     "execution_count": 37,
     "metadata": {},
     "output_type": "execute_result"
    },
    {
     "data": {
      "image/png": "[encoded data removed]",
      "text/plain": [
       "<Figure size 720x720 with 2 Axes>"
      ]
     },
     "metadata": {
      "needs_background": "light"
     },
     "output_type": "display_data"
    }
   ],
   "source": [
    "# Make it prettier\n",
    "gdf_sorted.head(100).plot(figsize=(10,10),column='Total',legend=True)"
   ]
  },
  {
   "cell_type": "markdown",
   "metadata": {
    "slideshow": {
     "slide_type": "slide"
    }
   },
   "source": [
    "<div class=\"alert alert-info\">\n",
    "    Now it's your turn! Create a table and accompanying bar plot for the top/bottom x values for column of your choice.\n",
    "    \n",
    "    \n",
    "When you are done, post your map to the <a href=\"https://docs.google.com/document/d/1NHCfN5wzu7oglzo1LUHVGWqzXSVmH5XDvXOuhmPD8Yw/edit?usp=sharing\" target=\"_blank\">class gallery</a> (right click the image, copy, and paste)\n",
    "\n",
    "</div>"
   ]
  },
  {
   "cell_type": "code",
   "execution_count": null,
   "metadata": {},
   "outputs": [],
   "source": []
  },
  {
   "cell_type": "markdown",
   "metadata": {
    "slideshow": {
     "slide_type": "slide"
    }
   },
   "source": [
    "## Filtering and subsetting data\n",
    "Sorting is one method, but the process of discovery compels us to interrogate the data in different ways. One method of doing so is to query, or filter the data to see specific views of the data based on a question you may have. For example, what are the census tract that have no people in them? Or, Which census tracts are more than 75% black?"
   ]
  },
  {
   "cell_type": "code",
   "execution_count": 38,
   "metadata": {
    "scrolled": true,
    "slideshow": {
     "slide_type": "slide"
    },
    "tags": []
   },
   "outputs": [
    {
     "data": {
      "text/html": [
       "<div>\n",
       "<style scoped>\n",
       "    .dataframe tbody tr th:only-of-type {\n",
       "        vertical-align: middle;\n",
       "    }\n",
       "\n",
       "    .dataframe tbody tr th {\n",
       "        vertical-align: top;\n",
       "    }\n",
       "\n",
       "    .dataframe thead th {\n",
       "        text-align: right;\n",
       "    }\n",
       "</style>\n",
       "<table border=\"1\" class=\"dataframe\">\n",
       "  <thead>\n",
       "    <tr style=\"text-align: right;\">\n",
       "      <th></th>\n",
       "      <th>geoid</th>\n",
       "      <th>name</th>\n",
       "      <th>Total</th>\n",
       "      <th>Non Hispanic</th>\n",
       "      <th>Non Hispanic White</th>\n",
       "      <th>Non Hispanic Black</th>\n",
       "      <th>Non Hispanic American Indian and Alaska Native</th>\n",
       "      <th>Non Hispanic Asian</th>\n",
       "      <th>Non Hispanic Native Hawaiian and Other Pacific Islander</th>\n",
       "      <th>Non Hispanic Some other race</th>\n",
       "      <th>Non Hispanic Two or more races</th>\n",
       "      <th>Hispanic</th>\n",
       "      <th>geometry</th>\n",
       "    </tr>\n",
       "  </thead>\n",
       "  <tbody>\n",
       "    <tr>\n",
       "      <th>1055</th>\n",
       "      <td>14000US06037320000</td>\n",
       "      <td>Census Tract 3200, Los Angeles, CA</td>\n",
       "      <td>0.0</td>\n",
       "      <td>0.0</td>\n",
       "      <td>0.0</td>\n",
       "      <td>0.0</td>\n",
       "      <td>0.0</td>\n",
       "      <td>0.0</td>\n",
       "      <td>0.0</td>\n",
       "      <td>0.0</td>\n",
       "      <td>0.0</td>\n",
       "      <td>0.0</td>\n",
       "      <td>MULTIPOLYGON (((-118.36215 34.13903, -118.3612...</td>\n",
       "    </tr>\n",
       "    <tr>\n",
       "      <th>2318</th>\n",
       "      <td>14000US06037980001</td>\n",
       "      <td>Census Tract 9800.01, Los Angeles, CA</td>\n",
       "      <td>0.0</td>\n",
       "      <td>0.0</td>\n",
       "      <td>0.0</td>\n",
       "      <td>0.0</td>\n",
       "      <td>0.0</td>\n",
       "      <td>0.0</td>\n",
       "      <td>0.0</td>\n",
       "      <td>0.0</td>\n",
       "      <td>0.0</td>\n",
       "      <td>0.0</td>\n",
       "      <td>MULTIPOLYGON (((-118.37031 34.20120, -118.3658...</td>\n",
       "    </tr>\n",
       "    <tr>\n",
       "      <th>2319</th>\n",
       "      <td>14000US06037980002</td>\n",
       "      <td>Census Tract 9800.02, Los Angeles, CA</td>\n",
       "      <td>0.0</td>\n",
       "      <td>0.0</td>\n",
       "      <td>0.0</td>\n",
       "      <td>0.0</td>\n",
       "      <td>0.0</td>\n",
       "      <td>0.0</td>\n",
       "      <td>0.0</td>\n",
       "      <td>0.0</td>\n",
       "      <td>0.0</td>\n",
       "      <td>0.0</td>\n",
       "      <td>MULTIPOLYGON (((-118.25753 33.80197, -118.2571...</td>\n",
       "    </tr>\n",
       "    <tr>\n",
       "      <th>2320</th>\n",
       "      <td>14000US06037980003</td>\n",
       "      <td>Census Tract 9800.03, Los Angeles, CA</td>\n",
       "      <td>0.0</td>\n",
       "      <td>0.0</td>\n",
       "      <td>0.0</td>\n",
       "      <td>0.0</td>\n",
       "      <td>0.0</td>\n",
       "      <td>0.0</td>\n",
       "      <td>0.0</td>\n",
       "      <td>0.0</td>\n",
       "      <td>0.0</td>\n",
       "      <td>0.0</td>\n",
       "      <td>MULTIPOLYGON (((-118.14019 34.78468, -118.1401...</td>\n",
       "    </tr>\n",
       "    <tr>\n",
       "      <th>2321</th>\n",
       "      <td>14000US06037980004</td>\n",
       "      <td>Census Tract 9800.04, Los Angeles, CA</td>\n",
       "      <td>0.0</td>\n",
       "      <td>0.0</td>\n",
       "      <td>0.0</td>\n",
       "      <td>0.0</td>\n",
       "      <td>0.0</td>\n",
       "      <td>0.0</td>\n",
       "      <td>0.0</td>\n",
       "      <td>0.0</td>\n",
       "      <td>0.0</td>\n",
       "      <td>0.0</td>\n",
       "      <td>MULTIPOLYGON (((-118.12795 34.64591, -118.1274...</td>\n",
       "    </tr>\n",
       "    <tr>\n",
       "      <th>2322</th>\n",
       "      <td>14000US06037980005</td>\n",
       "      <td>Census Tract 9800.05, Los Angeles, CA</td>\n",
       "      <td>0.0</td>\n",
       "      <td>0.0</td>\n",
       "      <td>0.0</td>\n",
       "      <td>0.0</td>\n",
       "      <td>0.0</td>\n",
       "      <td>0.0</td>\n",
       "      <td>0.0</td>\n",
       "      <td>0.0</td>\n",
       "      <td>0.0</td>\n",
       "      <td>0.0</td>\n",
       "      <td>MULTIPOLYGON (((-118.35210 33.85818, -118.3517...</td>\n",
       "    </tr>\n",
       "    <tr>\n",
       "      <th>2323</th>\n",
       "      <td>14000US06037980006</td>\n",
       "      <td>Census Tract 9800.06, Los Angeles, CA</td>\n",
       "      <td>0.0</td>\n",
       "      <td>0.0</td>\n",
       "      <td>0.0</td>\n",
       "      <td>0.0</td>\n",
       "      <td>0.0</td>\n",
       "      <td>0.0</td>\n",
       "      <td>0.0</td>\n",
       "      <td>0.0</td>\n",
       "      <td>0.0</td>\n",
       "      <td>0.0</td>\n",
       "      <td>MULTIPOLYGON (((-118.09420 33.78670, -118.0941...</td>\n",
       "    </tr>\n",
       "    <tr>\n",
       "      <th>2324</th>\n",
       "      <td>14000US06037980007</td>\n",
       "      <td>Census Tract 9800.07, Los Angeles, CA</td>\n",
       "      <td>0.0</td>\n",
       "      <td>0.0</td>\n",
       "      <td>0.0</td>\n",
       "      <td>0.0</td>\n",
       "      <td>0.0</td>\n",
       "      <td>0.0</td>\n",
       "      <td>0.0</td>\n",
       "      <td>0.0</td>\n",
       "      <td>0.0</td>\n",
       "      <td>0.0</td>\n",
       "      <td>MULTIPOLYGON (((-118.11512 33.76305, -118.1135...</td>\n",
       "    </tr>\n",
       "    <tr>\n",
       "      <th>2328</th>\n",
       "      <td>14000US06037980013</td>\n",
       "      <td>Census Tract 9800.13, Los Angeles, CA</td>\n",
       "      <td>0.0</td>\n",
       "      <td>0.0</td>\n",
       "      <td>0.0</td>\n",
       "      <td>0.0</td>\n",
       "      <td>0.0</td>\n",
       "      <td>0.0</td>\n",
       "      <td>0.0</td>\n",
       "      <td>0.0</td>\n",
       "      <td>0.0</td>\n",
       "      <td>0.0</td>\n",
       "      <td>MULTIPOLYGON (((-118.39627 33.92804, -118.3962...</td>\n",
       "    </tr>\n",
       "    <tr>\n",
       "      <th>2331</th>\n",
       "      <td>14000US06037980018</td>\n",
       "      <td>Census Tract 9800.18, Los Angeles, CA</td>\n",
       "      <td>0.0</td>\n",
       "      <td>0.0</td>\n",
       "      <td>0.0</td>\n",
       "      <td>0.0</td>\n",
       "      <td>0.0</td>\n",
       "      <td>0.0</td>\n",
       "      <td>0.0</td>\n",
       "      <td>0.0</td>\n",
       "      <td>0.0</td>\n",
       "      <td>0.0</td>\n",
       "      <td>MULTIPOLYGON (((-118.18066 33.80597, -118.1806...</td>\n",
       "    </tr>\n",
       "    <tr>\n",
       "      <th>2333</th>\n",
       "      <td>14000US06037980020</td>\n",
       "      <td>Census Tract 9800.20, Los Angeles, CA</td>\n",
       "      <td>0.0</td>\n",
       "      <td>0.0</td>\n",
       "      <td>0.0</td>\n",
       "      <td>0.0</td>\n",
       "      <td>0.0</td>\n",
       "      <td>0.0</td>\n",
       "      <td>0.0</td>\n",
       "      <td>0.0</td>\n",
       "      <td>0.0</td>\n",
       "      <td>0.0</td>\n",
       "      <td>MULTIPOLYGON (((-118.34412 34.21700, -118.3438...</td>\n",
       "    </tr>\n",
       "    <tr>\n",
       "      <th>2335</th>\n",
       "      <td>14000US06037980022</td>\n",
       "      <td>Census Tract 9800.22, Los Angeles, CA</td>\n",
       "      <td>0.0</td>\n",
       "      <td>0.0</td>\n",
       "      <td>0.0</td>\n",
       "      <td>0.0</td>\n",
       "      <td>0.0</td>\n",
       "      <td>0.0</td>\n",
       "      <td>0.0</td>\n",
       "      <td>0.0</td>\n",
       "      <td>0.0</td>\n",
       "      <td>0.0</td>\n",
       "      <td>MULTIPOLYGON (((-118.50266 34.30809, -118.5026...</td>\n",
       "    </tr>\n",
       "    <tr>\n",
       "      <th>2336</th>\n",
       "      <td>14000US06037980023</td>\n",
       "      <td>Census Tract 9800.23, Los Angeles, CA</td>\n",
       "      <td>0.0</td>\n",
       "      <td>0.0</td>\n",
       "      <td>0.0</td>\n",
       "      <td>0.0</td>\n",
       "      <td>0.0</td>\n",
       "      <td>0.0</td>\n",
       "      <td>0.0</td>\n",
       "      <td>0.0</td>\n",
       "      <td>0.0</td>\n",
       "      <td>0.0</td>\n",
       "      <td>MULTIPOLYGON (((-118.64870 34.23120, -118.6480...</td>\n",
       "    </tr>\n",
       "    <tr>\n",
       "      <th>2338</th>\n",
       "      <td>14000US06037980025</td>\n",
       "      <td>Census Tract 9800.25, Los Angeles, CA</td>\n",
       "      <td>0.0</td>\n",
       "      <td>0.0</td>\n",
       "      <td>0.0</td>\n",
       "      <td>0.0</td>\n",
       "      <td>0.0</td>\n",
       "      <td>0.0</td>\n",
       "      <td>0.0</td>\n",
       "      <td>0.0</td>\n",
       "      <td>0.0</td>\n",
       "      <td>0.0</td>\n",
       "      <td>MULTIPOLYGON (((-118.25712 33.83927, -118.2571...</td>\n",
       "    </tr>\n",
       "    <tr>\n",
       "      <th>2340</th>\n",
       "      <td>14000US06037980028</td>\n",
       "      <td>Census Tract 9800.28, Los Angeles, CA</td>\n",
       "      <td>0.0</td>\n",
       "      <td>0.0</td>\n",
       "      <td>0.0</td>\n",
       "      <td>0.0</td>\n",
       "      <td>0.0</td>\n",
       "      <td>0.0</td>\n",
       "      <td>0.0</td>\n",
       "      <td>0.0</td>\n",
       "      <td>0.0</td>\n",
       "      <td>0.0</td>\n",
       "      <td>MULTIPOLYGON (((-118.45246 33.94315, -118.4464...</td>\n",
       "    </tr>\n",
       "    <tr>\n",
       "      <th>2341</th>\n",
       "      <td>14000US06037980030</td>\n",
       "      <td>Census Tract 9800.30, Los Angeles, CA</td>\n",
       "      <td>0.0</td>\n",
       "      <td>0.0</td>\n",
       "      <td>0.0</td>\n",
       "      <td>0.0</td>\n",
       "      <td>0.0</td>\n",
       "      <td>0.0</td>\n",
       "      <td>0.0</td>\n",
       "      <td>0.0</td>\n",
       "      <td>0.0</td>\n",
       "      <td>0.0</td>\n",
       "      <td>MULTIPOLYGON (((-118.43712 33.91639, -118.4299...</td>\n",
       "    </tr>\n",
       "    <tr>\n",
       "      <th>2344</th>\n",
       "      <td>14000US06037990100</td>\n",
       "      <td>Census Tract 9901, Los Angeles, CA</td>\n",
       "      <td>0.0</td>\n",
       "      <td>0.0</td>\n",
       "      <td>0.0</td>\n",
       "      <td>0.0</td>\n",
       "      <td>0.0</td>\n",
       "      <td>0.0</td>\n",
       "      <td>0.0</td>\n",
       "      <td>0.0</td>\n",
       "      <td>0.0</td>\n",
       "      <td>0.0</td>\n",
       "      <td>MULTIPOLYGON (((-118.95114 33.99643, -118.9505...</td>\n",
       "    </tr>\n",
       "    <tr>\n",
       "      <th>2345</th>\n",
       "      <td>14000US06037990200</td>\n",
       "      <td>Census Tract 9902, Los Angeles, CA</td>\n",
       "      <td>0.0</td>\n",
       "      <td>0.0</td>\n",
       "      <td>0.0</td>\n",
       "      <td>0.0</td>\n",
       "      <td>0.0</td>\n",
       "      <td>0.0</td>\n",
       "      <td>0.0</td>\n",
       "      <td>0.0</td>\n",
       "      <td>0.0</td>\n",
       "      <td>0.0</td>\n",
       "      <td>MULTIPOLYGON (((-118.63598 34.03255, -118.6325...</td>\n",
       "    </tr>\n",
       "    <tr>\n",
       "      <th>2346</th>\n",
       "      <td>14000US06037990300</td>\n",
       "      <td>Census Tract 9903, Los Angeles, CA</td>\n",
       "      <td>0.0</td>\n",
       "      <td>0.0</td>\n",
       "      <td>0.0</td>\n",
       "      <td>0.0</td>\n",
       "      <td>0.0</td>\n",
       "      <td>0.0</td>\n",
       "      <td>0.0</td>\n",
       "      <td>0.0</td>\n",
       "      <td>0.0</td>\n",
       "      <td>0.0</td>\n",
       "      <td>MULTIPOLYGON (((-118.47656 33.75038, -118.4661...</td>\n",
       "    </tr>\n",
       "  </tbody>\n",
       "</table>\n",
       "</div>"
      ],
      "text/plain": [
       "                   geoid                                   name  Total  \\\n",
       "1055  14000US06037320000     Census Tract 3200, Los Angeles, CA    0.0   \n",
       "2318  14000US06037980001  Census Tract 9800.01, Los Angeles, CA    0.0   \n",
       "2319  14000US06037980002  Census Tract 9800.02, Los Angeles, CA    0.0   \n",
       "2320  14000US06037980003  Census Tract 9800.03, Los Angeles, CA    0.0   \n",
       "2321  14000US06037980004  Census Tract 9800.04, Los Angeles, CA    0.0   \n",
       "2322  14000US06037980005  Census Tract 9800.05, Los Angeles, CA    0.0   \n",
       "2323  14000US06037980006  Census Tract 9800.06, Los Angeles, CA    0.0   \n",
       "2324  14000US06037980007  Census Tract 9800.07, Los Angeles, CA    0.0   \n",
       "2328  14000US06037980013  Census Tract 9800.13, Los Angeles, CA    0.0   \n",
       "2331  14000US06037980018  Census Tract 9800.18, Los Angeles, CA    0.0   \n",
       "2333  14000US06037980020  Census Tract 9800.20, Los Angeles, CA    0.0   \n",
       "2335  14000US06037980022  Census Tract 9800.22, Los Angeles, CA    0.0   \n",
       "2336  14000US06037980023  Census Tract 9800.23, Los Angeles, CA    0.0   \n",
       "2338  14000US06037980025  Census Tract 9800.25, Los Angeles, CA    0.0   \n",
       "2340  14000US06037980028  Census Tract 9800.28, Los Angeles, CA    0.0   \n",
       "2341  14000US06037980030  Census Tract 9800.30, Los Angeles, CA    0.0   \n",
       "2344  14000US06037990100     Census Tract 9901, Los Angeles, CA    0.0   \n",
       "2345  14000US06037990200     Census Tract 9902, Los Angeles, CA    0.0   \n",
       "2346  14000US06037990300     Census Tract 9903, Los Angeles, CA    0.0   \n",
       "\n",
       "      Non Hispanic  Non Hispanic White  Non Hispanic Black  \\\n",
       "1055           0.0                 0.0                 0.0   \n",
       "2318           0.0                 0.0                 0.0   \n",
       "2319           0.0                 0.0                 0.0   \n",
       "2320           0.0                 0.0                 0.0   \n",
       "2321           0.0                 0.0                 0.0   \n",
       "2322           0.0                 0.0                 0.0   \n",
       "2323           0.0                 0.0                 0.0   \n",
       "2324           0.0                 0.0                 0.0   \n",
       "2328           0.0                 0.0                 0.0   \n",
       "2331           0.0                 0.0                 0.0   \n",
       "2333           0.0                 0.0                 0.0   \n",
       "2335           0.0                 0.0                 0.0   \n",
       "2336           0.0                 0.0                 0.0   \n",
       "2338           0.0                 0.0                 0.0   \n",
       "2340           0.0                 0.0                 0.0   \n",
       "2341           0.0                 0.0                 0.0   \n",
       "2344           0.0                 0.0                 0.0   \n",
       "2345           0.0                 0.0                 0.0   \n",
       "2346           0.0                 0.0                 0.0   \n",
       "\n",
       "      Non Hispanic American Indian and Alaska Native  Non Hispanic Asian  \\\n",
       "1055                                             0.0                 0.0   \n",
       "2318                                             0.0                 0.0   \n",
       "2319                                             0.0                 0.0   \n",
       "2320                                             0.0                 0.0   \n",
       "2321                                             0.0                 0.0   \n",
       "2322                                             0.0                 0.0   \n",
       "2323                                             0.0                 0.0   \n",
       "2324                                             0.0                 0.0   \n",
       "2328                                             0.0                 0.0   \n",
       "2331                                             0.0                 0.0   \n",
       "2333                                             0.0                 0.0   \n",
       "2335                                             0.0                 0.0   \n",
       "2336                                             0.0                 0.0   \n",
       "2338                                             0.0                 0.0   \n",
       "2340                                             0.0                 0.0   \n",
       "2341                                             0.0                 0.0   \n",
       "2344                                             0.0                 0.0   \n",
       "2345                                             0.0                 0.0   \n",
       "2346                                             0.0                 0.0   \n",
       "\n",
       "      Non Hispanic Native Hawaiian and Other Pacific Islander  \\\n",
       "1055                                                0.0         \n",
       "2318                                                0.0         \n",
       "2319                                                0.0         \n",
       "2320                                                0.0         \n",
       "2321                                                0.0         \n",
       "2322                                                0.0         \n",
       "2323                                                0.0         \n",
       "2324                                                0.0         \n",
       "2328                                                0.0         \n",
       "2331                                                0.0         \n",
       "2333                                                0.0         \n",
       "2335                                                0.0         \n",
       "2336                                                0.0         \n",
       "2338                                                0.0         \n",
       "2340                                                0.0         \n",
       "2341                                                0.0         \n",
       "2344                                                0.0         \n",
       "2345                                                0.0         \n",
       "2346                                                0.0         \n",
       "\n",
       "      Non Hispanic Some other race  Non Hispanic Two or more races  Hispanic  \\\n",
       "1055                           0.0                             0.0       0.0   \n",
       "2318                           0.0                             0.0       0.0   \n",
       "2319                           0.0                             0.0       0.0   \n",
       "2320                           0.0                             0.0       0.0   \n",
       "2321                           0.0                             0.0       0.0   \n",
       "2322                           0.0                             0.0       0.0   \n",
       "2323                           0.0                             0.0       0.0   \n",
       "2324                           0.0                             0.0       0.0   \n",
       "2328                           0.0                             0.0       0.0   \n",
       "2331                           0.0                             0.0       0.0   \n",
       "2333                           0.0                             0.0       0.0   \n",
       "2335                           0.0                             0.0       0.0   \n",
       "2336                           0.0                             0.0       0.0   \n",
       "2338                           0.0                             0.0       0.0   \n",
       "2340                           0.0                             0.0       0.0   \n",
       "2341                           0.0                             0.0       0.0   \n",
       "2344                           0.0                             0.0       0.0   \n",
       "2345                           0.0                             0.0       0.0   \n",
       "2346                           0.0                             0.0       0.0   \n",
       "\n",
       "                                               geometry  \n",
       "1055  MULTIPOLYGON (((-118.36215 34.13903, -118.3612...  \n",
       "2318  MULTIPOLYGON (((-118.37031 34.20120, -118.3658...  \n",
       "2319  MULTIPOLYGON (((-118.25753 33.80197, -118.2571...  \n",
       "2320  MULTIPOLYGON (((-118.14019 34.78468, -118.1401...  \n",
       "2321  MULTIPOLYGON (((-118.12795 34.64591, -118.1274...  \n",
       "2322  MULTIPOLYGON (((-118.35210 33.85818, -118.3517...  \n",
       "2323  MULTIPOLYGON (((-118.09420 33.78670, -118.0941...  \n",
       "2324  MULTIPOLYGON (((-118.11512 33.76305, -118.1135...  \n",
       "2328  MULTIPOLYGON (((-118.39627 33.92804, -118.3962...  \n",
       "2331  MULTIPOLYGON (((-118.18066 33.80597, -118.1806...  \n",
       "2333  MULTIPOLYGON (((-118.34412 34.21700, -118.3438...  \n",
       "2335  MULTIPOLYGON (((-118.50266 34.30809, -118.5026...  \n",
       "2336  MULTIPOLYGON (((-118.64870 34.23120, -118.6480...  \n",
       "2338  MULTIPOLYGON (((-118.25712 33.83927, -118.2571...  \n",
       "2340  MULTIPOLYGON (((-118.45246 33.94315, -118.4464...  \n",
       "2341  MULTIPOLYGON (((-118.43712 33.91639, -118.4299...  \n",
       "2344  MULTIPOLYGON (((-118.95114 33.99643, -118.9505...  \n",
       "2345  MULTIPOLYGON (((-118.63598 34.03255, -118.6325...  \n",
       "2346  MULTIPOLYGON (((-118.47656 33.75038, -118.4661...  "
      ]
     },
     "execution_count": 38,
     "metadata": {},
     "output_type": "execute_result"
    }
   ],
   "source": [
    "# subset the data so that we can see the data per row... \n",
    "# in other words, this syntax is asking to \"show me the values in my dataframe that match this filter\n",
    "gdf[gdf['Total']==0]"
   ]
  },
  {
   "cell_type": "markdown",
   "metadata": {
    "slideshow": {
     "slide_type": "slide"
    }
   },
   "source": [
    "Note that unless you specify the resulting output as a new variable, the results are only temporary (in memory). If you want to use the results for subsequent analysis, you need to create a new variable."
   ]
  },
  {
   "cell_type": "code",
   "execution_count": 39,
   "metadata": {},
   "outputs": [],
   "source": [
    "# create a new variable for census tracts with zero pop\n",
    "gdf_no_pop = gdf[gdf['Total']==0]"
   ]
  },
  {
   "cell_type": "code",
   "execution_count": 40,
   "metadata": {
    "slideshow": {
     "slide_type": "slide"
    }
   },
   "outputs": [
    {
     "name": "stdout",
     "output_type": "stream",
     "text": [
      "There are 19 census tracts with no people in them\n"
     ]
    }
   ],
   "source": [
    "# how many records?\n",
    "print('There are ' + str(len(gdf_no_pop)) + ' census tracts with no people in them')"
   ]
  },
  {
   "cell_type": "code",
   "execution_count": 41,
   "metadata": {
    "scrolled": true,
    "slideshow": {
     "slide_type": "fragment"
    }
   },
   "outputs": [
    {
     "data": {
      "text/html": [
       "<div>\n",
       "<style scoped>\n",
       "    .dataframe tbody tr th:only-of-type {\n",
       "        vertical-align: middle;\n",
       "    }\n",
       "\n",
       "    .dataframe tbody tr th {\n",
       "        vertical-align: top;\n",
       "    }\n",
       "\n",
       "    .dataframe thead th {\n",
       "        text-align: right;\n",
       "    }\n",
       "</style>\n",
       "<table border=\"1\" class=\"dataframe\">\n",
       "  <thead>\n",
       "    <tr style=\"text-align: right;\">\n",
       "      <th></th>\n",
       "      <th>geoid</th>\n",
       "      <th>Total</th>\n",
       "    </tr>\n",
       "  </thead>\n",
       "  <tbody>\n",
       "    <tr>\n",
       "      <th>1055</th>\n",
       "      <td>14000US06037320000</td>\n",
       "      <td>0.0</td>\n",
       "    </tr>\n",
       "    <tr>\n",
       "      <th>2318</th>\n",
       "      <td>14000US06037980001</td>\n",
       "      <td>0.0</td>\n",
       "    </tr>\n",
       "    <tr>\n",
       "      <th>2319</th>\n",
       "      <td>14000US06037980002</td>\n",
       "      <td>0.0</td>\n",
       "    </tr>\n",
       "    <tr>\n",
       "      <th>2320</th>\n",
       "      <td>14000US06037980003</td>\n",
       "      <td>0.0</td>\n",
       "    </tr>\n",
       "    <tr>\n",
       "      <th>2321</th>\n",
       "      <td>14000US06037980004</td>\n",
       "      <td>0.0</td>\n",
       "    </tr>\n",
       "    <tr>\n",
       "      <th>2322</th>\n",
       "      <td>14000US06037980005</td>\n",
       "      <td>0.0</td>\n",
       "    </tr>\n",
       "    <tr>\n",
       "      <th>2323</th>\n",
       "      <td>14000US06037980006</td>\n",
       "      <td>0.0</td>\n",
       "    </tr>\n",
       "    <tr>\n",
       "      <th>2324</th>\n",
       "      <td>14000US06037980007</td>\n",
       "      <td>0.0</td>\n",
       "    </tr>\n",
       "    <tr>\n",
       "      <th>2328</th>\n",
       "      <td>14000US06037980013</td>\n",
       "      <td>0.0</td>\n",
       "    </tr>\n",
       "    <tr>\n",
       "      <th>2331</th>\n",
       "      <td>14000US06037980018</td>\n",
       "      <td>0.0</td>\n",
       "    </tr>\n",
       "    <tr>\n",
       "      <th>2333</th>\n",
       "      <td>14000US06037980020</td>\n",
       "      <td>0.0</td>\n",
       "    </tr>\n",
       "    <tr>\n",
       "      <th>2335</th>\n",
       "      <td>14000US06037980022</td>\n",
       "      <td>0.0</td>\n",
       "    </tr>\n",
       "    <tr>\n",
       "      <th>2336</th>\n",
       "      <td>14000US06037980023</td>\n",
       "      <td>0.0</td>\n",
       "    </tr>\n",
       "    <tr>\n",
       "      <th>2338</th>\n",
       "      <td>14000US06037980025</td>\n",
       "      <td>0.0</td>\n",
       "    </tr>\n",
       "    <tr>\n",
       "      <th>2340</th>\n",
       "      <td>14000US06037980028</td>\n",
       "      <td>0.0</td>\n",
       "    </tr>\n",
       "    <tr>\n",
       "      <th>2341</th>\n",
       "      <td>14000US06037980030</td>\n",
       "      <td>0.0</td>\n",
       "    </tr>\n",
       "    <tr>\n",
       "      <th>2344</th>\n",
       "      <td>14000US06037990100</td>\n",
       "      <td>0.0</td>\n",
       "    </tr>\n",
       "    <tr>\n",
       "      <th>2345</th>\n",
       "      <td>14000US06037990200</td>\n",
       "      <td>0.0</td>\n",
       "    </tr>\n",
       "    <tr>\n",
       "      <th>2346</th>\n",
       "      <td>14000US06037990300</td>\n",
       "      <td>0.0</td>\n",
       "    </tr>\n",
       "  </tbody>\n",
       "</table>\n",
       "</div>"
      ],
      "text/plain": [
       "                   geoid  Total\n",
       "1055  14000US06037320000    0.0\n",
       "2318  14000US06037980001    0.0\n",
       "2319  14000US06037980002    0.0\n",
       "2320  14000US06037980003    0.0\n",
       "2321  14000US06037980004    0.0\n",
       "2322  14000US06037980005    0.0\n",
       "2323  14000US06037980006    0.0\n",
       "2324  14000US06037980007    0.0\n",
       "2328  14000US06037980013    0.0\n",
       "2331  14000US06037980018    0.0\n",
       "2333  14000US06037980020    0.0\n",
       "2335  14000US06037980022    0.0\n",
       "2336  14000US06037980023    0.0\n",
       "2338  14000US06037980025    0.0\n",
       "2340  14000US06037980028    0.0\n",
       "2341  14000US06037980030    0.0\n",
       "2344  14000US06037990100    0.0\n",
       "2345  14000US06037990200    0.0\n",
       "2346  14000US06037990300    0.0"
      ]
     },
     "execution_count": 41,
     "metadata": {},
     "output_type": "execute_result"
    }
   ],
   "source": [
    "# display it\n",
    "gdf_no_pop[['geoid','Total']]"
   ]
  },
  {
   "cell_type": "markdown",
   "metadata": {
    "slideshow": {
     "slide_type": "slide"
    }
   },
   "source": [
    "## Totals are great but let's normalize the data\n",
    "\n",
    "For almost any data inquiry, you should ask the question: should I normalize the data? With raw numbers, is it fair to compare one census tract to another? For example, if one census tract has 1000 hispanics, and another has 100, can we assume that the first tract is largely Hispanic? No, because the total population might be 10000 people, resulting in it being 10% hispanic, whereas the second tract might have 200 people living in it, resulting in it being 50% hispanic."
   ]
  },
  {
   "cell_type": "markdown",
   "metadata": {
    "slideshow": {
     "slide_type": "slide"
    }
   },
   "source": [
    "To avoid these types of misrepresentations, we can normalize the data, and provide it as a percent of total."
   ]
  },
  {
   "cell_type": "code",
   "execution_count": 42,
   "metadata": {
    "slideshow": {
     "slide_type": "fragment"
    }
   },
   "outputs": [
    {
     "data": {
      "text/plain": [
       "['geoid',\n",
       " 'name',\n",
       " 'Total',\n",
       " 'Non Hispanic',\n",
       " 'Non Hispanic White',\n",
       " 'Non Hispanic Black',\n",
       " 'Non Hispanic American Indian and Alaska Native',\n",
       " 'Non Hispanic Asian',\n",
       " 'Non Hispanic Native Hawaiian and Other Pacific Islander',\n",
       " 'Non Hispanic Some other race',\n",
       " 'Non Hispanic Two or more races',\n",
       " 'Hispanic',\n",
       " 'geometry']"
      ]
     },
     "execution_count": 42,
     "metadata": {},
     "output_type": "execute_result"
    }
   ],
   "source": [
    "# output columns\n",
    "list(gdf)"
   ]
  },
  {
   "cell_type": "code",
   "execution_count": 44,
   "metadata": {
    "slideshow": {
     "slide_type": "slide"
    }
   },
   "outputs": [],
   "source": [
    "# create a new column, and populate it with normalized data to get the percent of total value\n",
    "gdf['Percent Non Hispanic'] = gdf['Non Hispanic']/gdf['Total']*100\n",
    "gdf['Percent Hispanic'] = gdf['Hispanic']/gdf['Total']*100"
   ]
  },
  {
   "cell_type": "code",
   "execution_count": 45,
   "metadata": {
    "scrolled": true,
    "slideshow": {
     "slide_type": "fragment"
    }
   },
   "outputs": [
    {
     "data": {
      "text/html": [
       "<div>\n",
       "<style scoped>\n",
       "    .dataframe tbody tr th:only-of-type {\n",
       "        vertical-align: middle;\n",
       "    }\n",
       "\n",
       "    .dataframe tbody tr th {\n",
       "        vertical-align: top;\n",
       "    }\n",
       "\n",
       "    .dataframe thead th {\n",
       "        text-align: right;\n",
       "    }\n",
       "</style>\n",
       "<table border=\"1\" class=\"dataframe\">\n",
       "  <thead>\n",
       "    <tr style=\"text-align: right;\">\n",
       "      <th></th>\n",
       "      <th>geoid</th>\n",
       "      <th>name</th>\n",
       "      <th>Total</th>\n",
       "      <th>Non Hispanic</th>\n",
       "      <th>Non Hispanic White</th>\n",
       "      <th>Non Hispanic Black</th>\n",
       "      <th>Non Hispanic American Indian and Alaska Native</th>\n",
       "      <th>Non Hispanic Asian</th>\n",
       "      <th>Non Hispanic Native Hawaiian and Other Pacific Islander</th>\n",
       "      <th>Non Hispanic Some other race</th>\n",
       "      <th>Non Hispanic Two or more races</th>\n",
       "      <th>Hispanic</th>\n",
       "      <th>geometry</th>\n",
       "      <th>Percent Non Hispanic</th>\n",
       "      <th>Percent Hispanic</th>\n",
       "    </tr>\n",
       "  </thead>\n",
       "  <tbody>\n",
       "    <tr>\n",
       "      <th>930</th>\n",
       "      <td>14000US06037276603</td>\n",
       "      <td>Census Tract 2766.03, Los Angeles, CA</td>\n",
       "      <td>5489.0</td>\n",
       "      <td>4860.0</td>\n",
       "      <td>3345.0</td>\n",
       "      <td>582.0</td>\n",
       "      <td>27.0</td>\n",
       "      <td>707.0</td>\n",
       "      <td>0.0</td>\n",
       "      <td>42.0</td>\n",
       "      <td>157.0</td>\n",
       "      <td>629.0</td>\n",
       "      <td>MULTIPOLYGON (((-118.44226 33.95640, -118.4420...</td>\n",
       "      <td>88.540718</td>\n",
       "      <td>11.459282</td>\n",
       "    </tr>\n",
       "    <tr>\n",
       "      <th>378</th>\n",
       "      <td>14000US06037185203</td>\n",
       "      <td>Census Tract 1852.03, Los Angeles, CA</td>\n",
       "      <td>3566.0</td>\n",
       "      <td>804.0</td>\n",
       "      <td>395.0</td>\n",
       "      <td>23.0</td>\n",
       "      <td>0.0</td>\n",
       "      <td>288.0</td>\n",
       "      <td>0.0</td>\n",
       "      <td>18.0</td>\n",
       "      <td>80.0</td>\n",
       "      <td>2762.0</td>\n",
       "      <td>MULTIPOLYGON (((-118.23707 34.10221, -118.2362...</td>\n",
       "      <td>22.546270</td>\n",
       "      <td>77.453730</td>\n",
       "    </tr>\n",
       "    <tr>\n",
       "      <th>1580</th>\n",
       "      <td>14000US06037533103</td>\n",
       "      <td>Census Tract 5331.03, Los Angeles, CA</td>\n",
       "      <td>3283.0</td>\n",
       "      <td>100.0</td>\n",
       "      <td>86.0</td>\n",
       "      <td>14.0</td>\n",
       "      <td>0.0</td>\n",
       "      <td>0.0</td>\n",
       "      <td>0.0</td>\n",
       "      <td>0.0</td>\n",
       "      <td>0.0</td>\n",
       "      <td>3183.0</td>\n",
       "      <td>MULTIPOLYGON (((-118.23535 33.97953, -118.2348...</td>\n",
       "      <td>3.045995</td>\n",
       "      <td>96.954005</td>\n",
       "    </tr>\n",
       "    <tr>\n",
       "      <th>1909</th>\n",
       "      <td>14000US06037575803</td>\n",
       "      <td>Census Tract 5758.03, Los Angeles, CA</td>\n",
       "      <td>3229.0</td>\n",
       "      <td>1254.0</td>\n",
       "      <td>542.0</td>\n",
       "      <td>260.0</td>\n",
       "      <td>11.0</td>\n",
       "      <td>339.0</td>\n",
       "      <td>0.0</td>\n",
       "      <td>0.0</td>\n",
       "      <td>102.0</td>\n",
       "      <td>1975.0</td>\n",
       "      <td>MULTIPOLYGON (((-118.19506 33.78259, -118.1947...</td>\n",
       "      <td>38.835553</td>\n",
       "      <td>61.164447</td>\n",
       "    </tr>\n",
       "    <tr>\n",
       "      <th>519</th>\n",
       "      <td>14000US06037204200</td>\n",
       "      <td>Census Tract 2042, Los Angeles, CA</td>\n",
       "      <td>3657.0</td>\n",
       "      <td>113.0</td>\n",
       "      <td>38.0</td>\n",
       "      <td>12.0</td>\n",
       "      <td>0.0</td>\n",
       "      <td>63.0</td>\n",
       "      <td>0.0</td>\n",
       "      <td>0.0</td>\n",
       "      <td>0.0</td>\n",
       "      <td>3544.0</td>\n",
       "      <td>MULTIPOLYGON (((-118.20948 34.04415, -118.2089...</td>\n",
       "      <td>3.089964</td>\n",
       "      <td>96.910036</td>\n",
       "    </tr>\n",
       "  </tbody>\n",
       "</table>\n",
       "</div>"
      ],
      "text/plain": [
       "                   geoid                                   name   Total  \\\n",
       "930   14000US06037276603  Census Tract 2766.03, Los Angeles, CA  5489.0   \n",
       "378   14000US06037185203  Census Tract 1852.03, Los Angeles, CA  3566.0   \n",
       "1580  14000US06037533103  Census Tract 5331.03, Los Angeles, CA  3283.0   \n",
       "1909  14000US06037575803  Census Tract 5758.03, Los Angeles, CA  3229.0   \n",
       "519   14000US06037204200     Census Tract 2042, Los Angeles, CA  3657.0   \n",
       "\n",
       "      Non Hispanic  Non Hispanic White  Non Hispanic Black  \\\n",
       "930         4860.0              3345.0               582.0   \n",
       "378          804.0               395.0                23.0   \n",
       "1580         100.0                86.0                14.0   \n",
       "1909        1254.0               542.0               260.0   \n",
       "519          113.0                38.0                12.0   \n",
       "\n",
       "      Non Hispanic American Indian and Alaska Native  Non Hispanic Asian  \\\n",
       "930                                             27.0               707.0   \n",
       "378                                              0.0               288.0   \n",
       "1580                                             0.0                 0.0   \n",
       "1909                                            11.0               339.0   \n",
       "519                                              0.0                63.0   \n",
       "\n",
       "      Non Hispanic Native Hawaiian and Other Pacific Islander  \\\n",
       "930                                                 0.0         \n",
       "378                                                 0.0         \n",
       "1580                                                0.0         \n",
       "1909                                                0.0         \n",
       "519                                                 0.0         \n",
       "\n",
       "      Non Hispanic Some other race  Non Hispanic Two or more races  Hispanic  \\\n",
       "930                           42.0                           157.0     629.0   \n",
       "378                           18.0                            80.0    2762.0   \n",
       "1580                           0.0                             0.0    3183.0   \n",
       "1909                           0.0                           102.0    1975.0   \n",
       "519                            0.0                             0.0    3544.0   \n",
       "\n",
       "                                               geometry  Percent Non Hispanic  \\\n",
       "930   MULTIPOLYGON (((-118.44226 33.95640, -118.4420...             88.540718   \n",
       "378   MULTIPOLYGON (((-118.23707 34.10221, -118.2362...             22.546270   \n",
       "1580  MULTIPOLYGON (((-118.23535 33.97953, -118.2348...              3.045995   \n",
       "1909  MULTIPOLYGON (((-118.19506 33.78259, -118.1947...             38.835553   \n",
       "519   MULTIPOLYGON (((-118.20948 34.04415, -118.2089...              3.089964   \n",
       "\n",
       "      Percent Hispanic  \n",
       "930          11.459282  \n",
       "378          77.453730  \n",
       "1580         96.954005  \n",
       "1909         61.164447  \n",
       "519          96.910036  "
      ]
     },
     "execution_count": 45,
     "metadata": {},
     "output_type": "execute_result"
    }
   ],
   "source": [
    "gdf.sample(5)"
   ]
  },
  {
   "cell_type": "markdown",
   "metadata": {
    "slideshow": {
     "slide_type": "slide"
    }
   },
   "source": [
    "### Now it's your turn!\n",
    "\n",
    "Now it's your turn! Create new columns for \n",
    "- `Percent Non Hispanic White`\n",
    "- `Percent Non Hispanic Black`\n",
    "- `Percent Non Hispanic American Indian and Alaska Native`\n",
    "- `Percent Non Hispanic Asian`\n",
    "- `Percent Non Hispanic Native Hawaiian and Other Pacific Islander`\n",
    "- `Percent Non Hispanic Some other race`\n",
    "- `Percent Non Hispanic Two or more races`"
   ]
  },
  {
   "cell_type": "code",
   "execution_count": 47,
   "metadata": {},
   "outputs": [],
   "source": [
    "gdf['Percent Non Hispanic White'] = gdf['Non Hispanic White']/gdf['Total']*100"
   ]
  },
  {
   "cell_type": "markdown",
   "metadata": {
    "slideshow": {
     "slide_type": "slide"
    }
   },
   "source": [
    "# Maps!"
   ]
  },
  {
   "cell_type": "markdown",
   "metadata": {
    "slideshow": {
     "slide_type": "slide"
    }
   },
   "source": [
    "We can now create choropleth maps in geopandas. \n",
    "\n",
    "* [geopandas choropleth maps](https://geopandas.org/mapping.html#choropleth-maps)\n",
    "* [color schemes with mapclassify](https://pysal.org/notebooks/viz/mapclassify/intro.html)\n",
    "  * `natural_breaks`\n",
    "  * `equal_interval`\n",
    "  * `quantiles`\n",
    "  * etc..."
   ]
  },
  {
   "cell_type": "code",
   "execution_count": 48,
   "metadata": {
    "slideshow": {
     "slide_type": "slide"
    }
   },
   "outputs": [
    {
     "data": {
      "text/plain": [
       "<AxesSubplot:>"
      ]
     },
     "execution_count": 48,
     "metadata": {},
     "output_type": "execute_result"
    },
    {
     "data": {
      "image/png": "[encoded data removed]",
      "text/plain": [
       "<Figure size 864x720 with 1 Axes>"
      ]
     },
     "metadata": {
      "needs_background": "light"
     },
     "output_type": "display_data"
    }
   ],
   "source": [
    "gdf.plot(figsize=(12,10),\n",
    "                 column='Percent Hispanic',\n",
    "                 legend=True, \n",
    "                 scheme='NaturalBreaks')"
   ]
  },
  {
   "cell_type": "code",
   "execution_count": 49,
   "metadata": {
    "slideshow": {
     "slide_type": "slide"
    }
   },
   "outputs": [
    {
     "data": {
      "text/plain": [
       "<AxesSubplot:>"
      ]
     },
     "execution_count": 49,
     "metadata": {},
     "output_type": "execute_result"
    },
    {
     "data": {
      "image/png": "[encoded data removed]",
      "text/plain": [
       "<Figure size 864x720 with 1 Axes>"
      ]
     },
     "metadata": {
      "needs_background": "light"
     },
     "output_type": "display_data"
    }
   ],
   "source": [
    "gdf.plot(figsize=(12,10),\n",
    "                 column='Percent Hispanic',\n",
    "                 legend=True, \n",
    "                 scheme='equal_interval')"
   ]
  },
  {
   "cell_type": "code",
   "execution_count": 50,
   "metadata": {
    "slideshow": {
     "slide_type": "slide"
    }
   },
   "outputs": [
    {
     "data": {
      "text/plain": [
       "<AxesSubplot:>"
      ]
     },
     "execution_count": 50,
     "metadata": {},
     "output_type": "execute_result"
    },
    {
     "data": {
      "image/png": "[encoded data removed]",
      "text/plain": [
       "<Figure size 864x720 with 1 Axes>"
      ]
     },
     "metadata": {
      "needs_background": "light"
     },
     "output_type": "display_data"
    }
   ],
   "source": [
    "gdf.plot(figsize=(12,10),\n",
    "                 column='Percent Hispanic',\n",
    "                 legend=True, \n",
    "                 scheme='quantiles')"
   ]
  },
  {
   "cell_type": "markdown",
   "metadata": {
    "slideshow": {
     "slide_type": "slide"
    }
   },
   "source": [
    "## Using subplots to create multiple plots\n",
    "\n",
    "It is often useful to generate multiple plots next to each other. To do so, we look at matplotlib's `subplot` command:\n",
    "\n",
    "- https://matplotlib.org/3.3.3/api/_as_gen/matplotlib.pyplot.subplots.html"
   ]
  },
  {
   "cell_type": "code",
   "execution_count": null,
   "metadata": {
    "slideshow": {
     "slide_type": "slide"
    }
   },
   "outputs": [],
   "source": [
    "# create the 1x2 subplots\n",
    "fig, axs = plt.subplots(1, 2, figsize=(15, 12))\n",
    "\n",
    "# name each subplot\n",
    "ax1, ax2 = axs\n",
    "\n",
    "# regular count map on the left\n",
    "gdf.plot(column='Percent Hispanic', \n",
    "            cmap='RdYlGn_r', \n",
    "            scheme='quantiles',\n",
    "            k=5, \n",
    "            edgecolor='white', \n",
    "            linewidth=0., \n",
    "            alpha=0.75, \n",
    "            ax=ax1, # this assigns the map to the subplot,\n",
    "            legend=True\n",
    "           )\n",
    "\n",
    "ax1.axis(\"off\")\n",
    "ax1.set_title(\"Percent Hispanic\")\n",
    "\n",
    "# spatial lag map on the right\n",
    "gdf.plot(column='Percent Non Hispanic Black', \n",
    "            cmap='RdYlGn_r', \n",
    "            scheme='quantiles',\n",
    "            k=5, \n",
    "            edgecolor='white', \n",
    "            linewidth=0., \n",
    "            alpha=0.75, \n",
    "            ax=ax2, # this assigns the map to the subplot\n",
    "            legend=True\n",
    "           )\n",
    "\n",
    "ax2.axis(\"off\")\n",
    "ax2.set_title(\"Percent Non Hispanic Black\")"
   ]
  },
  {
   "cell_type": "markdown",
   "metadata": {
    "slideshow": {
     "slide_type": "slide"
    }
   },
   "source": [
    "<div class=\"alert alert-info\">\n",
    "\n",
    "Now it's your turn! Create map plots based on other race indicators. Experiment with the different schemes to display variations of the same data, mapped differently.\n",
    "    \n",
    "When you are done, post your map to the <a href=\"https://docs.google.com/document/d/1NHCfN5wzu7oglzo1LUHVGWqzXSVmH5XDvXOuhmPD8Yw/edit?usp=sharing\" target=\"_blank\">class gallery</a> (right click the image, copy, and paste)\n",
    "\n",
    "</div>"
   ]
  },
  {
   "cell_type": "code",
   "execution_count": null,
   "metadata": {},
   "outputs": [],
   "source": []
  },
  {
   "cell_type": "markdown",
   "metadata": {
    "slideshow": {
     "slide_type": "slide"
    }
   },
   "source": [
    "## Additional mapping ideas\n",
    "What does the majority ethnic cluster look like in Los Angeles?"
   ]
  },
  {
   "cell_type": "code",
   "execution_count": null,
   "metadata": {},
   "outputs": [],
   "source": [
    "gdf[gdf['Percent Hispanic'] > 80]"
   ]
  },
  {
   "cell_type": "code",
   "execution_count": null,
   "metadata": {
    "slideshow": {
     "slide_type": "slide"
    }
   },
   "outputs": [],
   "source": [
    "gdf[gdf['Percent Hispanic'] > 90].plot(figsize=(12,10))"
   ]
  },
  {
   "cell_type": "markdown",
   "metadata": {
    "slideshow": {
     "slide_type": "slide"
    }
   },
   "source": [
    "<div class=\"alert alert-info\">\n",
    "\n",
    "Now it's your turn! Create map plots based on other race indicators with varying segments of the population.\n",
    "\n",
    "When you are done, post your map to the <a href=\"https://docs.google.com/document/d/1NHCfN5wzu7oglzo1LUHVGWqzXSVmH5XDvXOuhmPD8Yw/edit?usp=sharing\" target=\"_blank\">class gallery</a> (right click the image, copy, and paste)\n",
    "\n",
    "</div>"
   ]
  },
  {
   "cell_type": "code",
   "execution_count": null,
   "metadata": {},
   "outputs": [],
   "source": []
  },
  {
   "cell_type": "markdown",
   "metadata": {
    "slideshow": {
     "slide_type": "slide"
    }
   },
   "source": [
    "## Add a basemap\n",
    "\n",
    "Adding a basemap to a geopandas plot can be done using the [contextily library](https://contextily.readthedocs.io/en/latest/intro_guide.html). To do so, you must:\n",
    "\n",
    "* reproject your geodataframe to Web Mercator (epsg: 3857)\n",
    "* add a basemap, use the following [guidelines](https://github.com/geopandas/contextily/blob/master/notebooks/providers_deepdive.ipynb)"
   ]
  },
  {
   "cell_type": "code",
   "execution_count": null,
   "metadata": {},
   "outputs": [],
   "source": [
    "# reproject to Web Mercator\n",
    "gdf_web_mercator = gdf.to_crs(epsg=3857)"
   ]
  },
  {
   "cell_type": "code",
   "execution_count": null,
   "metadata": {},
   "outputs": [],
   "source": [
    "# use subplots that make it easier to create multiple layered maps\n",
    "fig, ax = plt.subplots(figsize=(15, 15))\n",
    "\n",
    "# add the layer with ax=ax in the argument \n",
    "gdf_web_mercator[gdf_web_mercator['Percent Hispanic'] > 50].plot(ax=ax, alpha=0.8)\n",
    "\n",
    "# turn the axis off\n",
    "ax.axis('off')\n",
    "\n",
    "# set a title\n",
    "ax.set_title('Census Tracts with more than 50% Hispanic Population',fontsize=16)\n",
    "\n",
    "# add a basemap\n",
    "ctx.add_basemap(ax)"
   ]
  },
  {
   "cell_type": "markdown",
   "metadata": {
    "slideshow": {
     "slide_type": "slide"
    }
   },
   "source": [
    "<div class=\"alert alert-info\">\n",
    "\n",
    "Now it's your turn! \n",
    "\n",
    "Add your final maps to the <a href=\"https://docs.google.com/document/d/1NHCfN5wzu7oglzo1LUHVGWqzXSVmH5XDvXOuhmPD8Yw/edit?usp=sharing\" target=\"_blank\">class gallery</a> (right click the image, copy, and paste)\n",
    "\n",
    "</div>"
   ]
  },
  {
   "cell_type": "code",
   "execution_count": null,
   "metadata": {},
   "outputs": [],
   "source": []
  }
 ],
 "metadata": {
  "celltoolbar": "Slideshow",
  "kernelspec": {
   "display_name": "Python 3 (ipykernel)",
   "language": "python",
   "name": "python3"
  },
  "language_info": {
   "codemirror_mode": {
    "name": "ipython",
    "version": 3
   },
   "file_extension": ".py",
   "mimetype": "text/x-python",
   "name": "python",
   "nbconvert_exporter": "python",
   "pygments_lexer": "ipython3",
   "version": "3.9.6"
  },
  "toc": {
   "base_numbering": 1,
   "nav_menu": {},
   "number_sections": true,
   "sideBar": true,
   "skip_h1_title": false,
   "title_cell": "Table of Contents",
   "title_sidebar": "Contents",
   "toc_cell": true,
   "toc_position": {
    "height": "calc(100% - 180px)",
    "left": "10px",
    "top": "150px",
    "width": "350.8px"
   },
   "toc_section_display": true,
   "toc_window_display": true
  }
 },
 "nbformat": 4,
 "nbformat_minor": 4
}
